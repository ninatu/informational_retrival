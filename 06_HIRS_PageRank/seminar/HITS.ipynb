{
 "cells": [
  {
   "cell_type": "code",
   "execution_count": 1,
   "metadata": {
    "collapsed": true
   },
   "outputs": [],
   "source": [
    "input_file = open(\"link_graph_series.txt\", 'r')"
   ]
  },
  {
   "cell_type": "code",
   "execution_count": 2,
   "metadata": {
    "collapsed": false
   },
   "outputs": [],
   "source": [
    "dict_vertex = {}\n",
    "count = 0\n",
    "for line in input_file:\n",
    "    parts = line.strip().split()\n",
    "    name_from = parts[0]\n",
    "    name_to = parts[1]\n",
    "    vertex_from = dict_vertex.get(name_from, ([], []))\n",
    "    vertex_to = dict_vertex.get(name_to, ([], []))\n",
    "    \n",
    "    vertex_from[1].append(name_to)\n",
    "    vertex_to[0].append(name_from)\n",
    "    dict_vertex[name_from] = vertex_from\n",
    "    dict_vertex[name_to] = vertex_to   "
   ]
  },
  {
   "cell_type": "code",
   "execution_count": 3,
   "metadata": {
    "collapsed": false
   },
   "outputs": [],
   "source": [
    "dict_empty = dict.fromkeys(dict_vertex.keys(), 1)\n",
    "dict_h = dict.fromkeys(dict_vertex.keys(), 1)\n",
    "dict_a = dict.fromkeys(dict_vertex.keys(), 1)"
   ]
  },
  {
   "cell_type": "code",
   "execution_count": 4,
   "metadata": {
    "collapsed": false
   },
   "outputs": [],
   "source": [
    "count_iteration = 5\n",
    "for i in range(count_iteration):\n",
    "    dict_h_old = dict_h.copy()\n",
    "    dict_a_old = dict_a.copy()\n",
    "    for x, value in dict_vertex.items():\n",
    "        sum_h = 0\n",
    "        for y in value[1]:\n",
    "            sum_h += dict_a_old[y]\n",
    "        dict_h[x] = sum_h\n",
    "        sum_a = 0\n",
    "        for y in value[0]:\n",
    "            sum_a += dict_h_old[y]\n",
    "        dict_a[x] = sum_a  "
   ]
  },
  {
   "cell_type": "code",
   "execution_count": 5,
   "metadata": {
    "collapsed": false
   },
   "outputs": [],
   "source": [
    "persons = filter(lambda x: x[0][1:7] == 'person', dict_a.items())\n",
    "series = filter(lambda x: x[0][1:7] == 'series', dict_h.items())"
   ]
  },
  {
   "cell_type": "code",
   "execution_count": 9,
   "metadata": {
    "collapsed": false
   },
   "outputs": [],
   "source": [
    "persons = sorted(persons, cmp=lambda x, y: x[1] - y[1], reverse=True)\n",
    "series = sorted(series, cmp=lambda x, y: x[1] - y[1], reverse=True)"
   ]
  },
  {
   "cell_type": "markdown",
   "metadata": {},
   "source": [
    "Самые авторитетные актеры"
   ]
  },
  {
   "cell_type": "code",
   "execution_count": 12,
   "metadata": {
    "collapsed": false
   },
   "outputs": [
    {
     "data": {
      "text/plain": [
       "[('/person/629004_aleksandr_kushaev/', 1147820417794),\n",
       " ('/person/632259_vlad_rjashin/', 902581368875),\n",
       " ('/person/637325_irina_smirnova/', 593797403034),\n",
       " ('/person/628492_ruben_dishdishjan/', 535656047327),\n",
       " ('/person/635073_vjacheslav_murugov/', 507142487935)]"
      ]
     },
     "execution_count": 12,
     "metadata": {},
     "output_type": "execute_result"
    }
   ],
   "source": [
    "persons[:5]"
   ]
  },
  {
   "cell_type": "markdown",
   "metadata": {},
   "source": [
    "Самые каталожные сериалы"
   ]
  },
  {
   "cell_type": "code",
   "execution_count": 13,
   "metadata": {
    "collapsed": false
   },
   "outputs": [
    {
     "data": {
      "text/plain": [
       "[('/series_766345_nikita/', 408902580304),\n",
       " ('/series_769346_ischeika/', 396310278853),\n",
       " ('/series_805759_durnaya_krov/', 390438435435),\n",
       " ('/series_768138_vikingi/', 385123868910),\n",
       " ('/series_884916_legendi_buduschego/', 381457445511)]"
      ]
     },
     "execution_count": 13,
     "metadata": {},
     "output_type": "execute_result"
    }
   ],
   "source": [
    "series[:5]"
   ]
  }
 ],
 "metadata": {
  "anaconda-cloud": {},
  "kernelspec": {
   "display_name": "Python [conda env:python2.7]",
   "language": "python",
   "name": "conda-env-python2.7-py"
  },
  "language_info": {
   "codemirror_mode": {
    "name": "ipython",
    "version": 2
   },
   "file_extension": ".py",
   "mimetype": "text/x-python",
   "name": "python",
   "nbconvert_exporter": "python",
   "pygments_lexer": "ipython2",
   "version": "2.7.12"
  }
 },
 "nbformat": 4,
 "nbformat_minor": 1
}
