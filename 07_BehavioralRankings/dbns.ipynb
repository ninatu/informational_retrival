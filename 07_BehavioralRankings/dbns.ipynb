{
 "cells": [
  {
   "cell_type": "code",
   "execution_count": 2,
   "metadata": {
    "collapsed": true
   },
   "outputs": [],
   "source": [
    "class Session:\n",
    "    def __init__(self, query, region, urls, clicks):\n",
    "        self.query = query\n",
    "        self.region = region\n",
    "        self.urls = [0]\n",
    "        self.urls.extend(urls)\n",
    "        self.clicks = clicks   "
   ]
  },
  {
   "cell_type": "code",
   "execution_count": 3,
   "metadata": {
    "collapsed": true
   },
   "outputs": [],
   "source": [
    "def parseSessions(fileInput):\n",
    "    sessions = []\n",
    "    for line in fileInput:\n",
    "        parts = line.strip().split(\"\\t\")\n",
    "        query = parts[2]\n",
    "        region = parts[3]\n",
    "        count = int(parts[4])\n",
    "        urls = parts[5:5 + count]\n",
    "        clicks = map(int, parts[5 + count:])\n",
    "        sessions.append(Session(query, region, urls, clicks))\n",
    "    return sessions"
   ]
  },
  {
   "cell_type": "code",
   "execution_count": 4,
   "metadata": {
    "collapsed": false
   },
   "outputs": [],
   "source": [
    "filename = \"sessions_1000.txt\"\n",
    "fileInput = open(filename)\n",
    "sessions = parseSessions(fileInput)"
   ]
  },
  {
   "cell_type": "code",
   "execution_count": 22,
   "metadata": {
    "collapsed": true
   },
   "outputs": [],
   "source": [
    "class Statistics:\n",
    "    def __init__(self, query, url):\n",
    "        self.query = query\n",
    "        self.url = url\n",
    "        self.a_D = 0\n",
    "        self.a_N = 0\n",
    "        self.s_N = 0\n",
    "        self.rel = None"
   ]
  },
  {
   "cell_type": "code",
   "execution_count": 79,
   "metadata": {
    "collapsed": false
   },
   "outputs": [],
   "source": [
    "def DBN(sessions):\n",
    "    docs = {}\n",
    "    for session in sessions:\n",
    "        query = session.query\n",
    "        urls = session.urls\n",
    "        clicks = session.clicks\n",
    "        for i in range(1, max(clicks) + 1):\n",
    "            pair = (query, urls[i])\n",
    "            doc = docs.get(pair, Statistics(pair[0], pair[1]))\n",
    "            doc.a_D += 1\n",
    "            docs[pair] = doc\n",
    "        for i in clicks:\n",
    "            pair = (query, urls[i])\n",
    "            doc[pair].a_N += 1\n",
    "        pair = (query, urls[clicks[-1]])\n",
    "        doc[pair].s_N += 1\n",
    "    docs = docs.values()\n",
    "    for doc in docs:\n",
    "        doc.rel = (float(doc.a_N + 1) / (doc.a_D + 2)) * (float(doc.s_N + 1) / (doc.a_N + 2))\n",
    "    return docs"
   ]
  },
  {
   "cell_type": "code",
   "execution_count": 80,
   "metadata": {
    "collapsed": false
   },
   "outputs": [],
   "source": [
    "dbns = DBN(sessions)"
   ]
  },
  {
   "cell_type": "code",
   "execution_count": 94,
   "metadata": {
    "collapsed": false
   },
   "outputs": [
    {
     "name": "stdout",
     "output_type": "stream",
     "text": [
      "http://www.gismeteo.ru/city/daily/5039/ 0.444444444444\n",
      "weather 0.166666666667\n"
     ]
    }
   ],
   "source": [
    "queryWeather = filter(lambda x: x[0][0] == 'погода', dbns.items())\n",
    "queryWeather = sorted(queryWeather, cmp = lambda x, y: (x[1].rel - y[1].rel) > 0)\n",
    "for item in queryWeather:\n",
    "    print item[0][1], item[1].rel"
   ]
  }
 ],
 "metadata": {
  "anaconda-cloud": {},
  "kernelspec": {
   "display_name": "Python [conda env:python2.7]",
   "language": "python",
   "name": "conda-env-python2.7-py"
  },
  "language_info": {
   "codemirror_mode": {
    "name": "ipython",
    "version": 2
   },
   "file_extension": ".py",
   "mimetype": "text/x-python",
   "name": "python",
   "nbconvert_exporter": "python",
   "pygments_lexer": "ipython2",
   "version": "2.7.12"
  }
 },
 "nbformat": 4,
 "nbformat_minor": 1
}
