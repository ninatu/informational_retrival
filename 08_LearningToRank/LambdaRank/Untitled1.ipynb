{
 "cells": [
  {
   "cell_type": "code",
   "execution_count": 1,
   "metadata": {
    "collapsed": true
   },
   "outputs": [],
   "source": [
    "from pandas import DataFrame\n",
    "import numpy as np\n",
    "from math import log2\n",
    "import random\n",
    "from sklearn.tree import DecisionTreeRegressor as DT"
   ]
  },
  {
   "cell_type": "code",
   "execution_count": 2,
   "metadata": {
    "collapsed": true
   },
   "outputs": [],
   "source": [
    "def DCGScore(y_true, y_score, k=10, gains=\"exponential\"):\n",
    "    order = np.argsort(y_score)[::-1]\n",
    "    y_true = np.take(y_true, order[:k])\n",
    "    if gains == \"exponential\":\n",
    "        gains = 2 ** y_true - 1\n",
    "    elif gains == \"linear\":\n",
    "        gains = y_true\n",
    "    else:\n",
    "        raise ValueError(\"Invalid gains option.\")\n",
    "    discounts = np.log2(np.arange(len(y_true)) + 2)\n",
    "    return np.sum(gains / discounts)\n",
    "\n",
    "def NDCGScore(y_true, y_score, k=10, gains=\"exponential\"):\n",
    "    best = DCGScore(y_true, y_true, k, gains)\n",
    "    actual = DCGScore(y_true, y_score, k, gains)\n",
    "    return actual / best\n",
    "\n",
    "def deltaNDCGScore(y_true, y_score, k=10, gains=\"exponential\"):\n",
    "    max_DCG = DCGScore(y_true, y_true, k, gains)\n",
    "    order[np.argsort(y_score)[::-1]] = range(1, y_score.shape[0] + 1)\n",
    "    discounts = np.log2(order + 1)\n",
    "    if gains == \"exponential\":\n",
    "        gains = 2 ** y_true - 1\n",
    "    elif gains == \"linear\":\n",
    "        gains = y_true\n",
    "    else:\n",
    "        raise ValueError(\"Invalid gains option.\")\n",
    "    elem_DCG = gains / discounts\n",
    "    _n = y_true.shape[0]\n",
    "    matr_elem_DCG = np.tile(elem_DCG, (_n, 1)).T\n",
    "    matr_swap_elem_DCG = gains.reshape((_n, 1)) / discounts.reshape((1, _n))\n",
    "\n",
    "    lambda_mtr = - matr_elem_DCG - matr_elem_DCG.T + matr_swap_elem_DCG + matr_swap_elem_DCG.T\n",
    "    no_null_swap = ((order <= k).reshape((_n, 1)) + (order <= k).reshape((1, _n))) > 0\n",
    "    lambda_mtr = np.abs(lambda_mtr * no_null_swap)\n",
    "    if max_DCG != 0:\n",
    "        return lambda_mtr / max_DCG\n",
    "    else:\n",
    "        return lambda_mtr\n",
    "    \n",
    "def AverageNDCG(data, y_score, k):\n",
    "    ndcg = 0\n",
    "    for (indexs, y_true) in data:\n",
    "        ndcg += NDCGScore(y_true, y_score[indexs], k)\n",
    "    return ndcg / len(data)\n",
    "\n",
    "\n",
    "def CountErrorPair(data, y_score):\n",
    "    count_pair = 0\n",
    "    for (indexs, y_true) in data:\n",
    "        y_pred = y_score[indexs]\n",
    "        _n = y_pred.shape[0]\n",
    "\n",
    "        pairs = (y_pred.reshape((_n, 1)) - y_pred.reshape((1, _n))) <= 0\n",
    "        true_pairs = (y_true.reshape((_n, 1)) - y_true.reshape((1, _n))) > 0\n",
    "        count = sum(sum(pairs == true_pairs))\n",
    "        count_pair += count\n",
    "    return count_pair"
   ]
  },
  {
   "cell_type": "code",
   "execution_count": 3,
   "metadata": {
    "collapsed": true
   },
   "outputs": [],
   "source": [
    "def relNormalize2(rel):\n",
    "    uniq_rel = np.unique(rel)\n",
    "    uniq_rel = sorted(uniq_rel)\n",
    "    norm_rel = np.empty(rel.shape)\n",
    "    for i, val in enumerate(uniq_rel):\n",
    "        norm_rel[rel==val] = i + 1\n",
    "    return norm_rel * 5"
   ]
  },
  {
   "cell_type": "code",
   "execution_count": 11,
   "metadata": {
    "collapsed": false
   },
   "outputs": [],
   "source": [
    "class LambdaRank:\n",
    "    def __init__(self, learning_rate, n_estimators, sigma, start_depth):\n",
    "        self._learning_rate = learning_rate\n",
    "        self._n_estimators = n_estimators\n",
    "        self._sigma = sigma\n",
    "        self._start_depth = start_depth\n",
    "        self._trees = []\n",
    "\n",
    "    def _createSet(self, DATA, queries, normalize):\n",
    "        all_queries = DATA[:, -1]\n",
    "        seq_x = []\n",
    "        data = []\n",
    "        last_index = 0\n",
    "        for q in queries:\n",
    "            X = DATA[all_queries == q, 1:-1]\n",
    "            seq_x.append(X)\n",
    "            data.append((range(last_index, last_index + X.shape[0]), normalize(DATA[all_queries == q, 0])))\n",
    "            last_index += X.shape[0]\n",
    "        return data, np.vstack(seq_x)\n",
    "\n",
    "    def fit(self, DATA, persent_valid, normalize, T_NDCG):\n",
    "        all_queries = DATA[:, -1]\n",
    "        uniq_queries = np.unique(all_queries)\n",
    "        #random.shuffle(uniq_queries)\n",
    "        uniq_queries = uniq_queries[:3600]\n",
    "\n",
    "        count_valid = int(persent_valid * uniq_queries.shape[0])\n",
    "        valid_queries = uniq_queries[:count_valid]\n",
    "        train_queries = uniq_queries[count_valid:]\n",
    "\n",
    "        data_train, X_train = self._createSet(DATA, train_queries, normalize)\n",
    "        data_valid, X_valid = self._createSet(DATA, valid_queries, normalize)\n",
    "\n",
    "        self._trees = []\n",
    "        h_train = np.zeros(X_train.shape[0])\n",
    "        h_valid = np.zeros(X_valid.shape[0])\n",
    "\n",
    "        iteration = 0\n",
    "        while True:\n",
    "            grad = np.zeros(h_train.shape)\n",
    "            for (indexs, y) in data_train:\n",
    "                h = h_train[indexs]\n",
    "                _n = h.shape[0]\n",
    "\n",
    "                delta_h = h.reshape((_n, 1)) - h.reshape((1, _n)) \n",
    "                sign_h = np.sign(y.reshape((_n, 1)) - y.reshape((1, _n)))\n",
    "                lambda_matr = self._sigma / (1 + np.exp(self._sigma * delta_h * sign_h))\n",
    "                # * deltaNDCGScore(y, h, T_NDCG)\n",
    "                lambda_vect = np.sum(sign_h * lambda_matr, axis=1)\n",
    "                grad[indexs] = lambda_vect\n",
    "\n",
    "            new_tree = DT(max_depth=self._start_depth)\n",
    "            new_tree.fit(X_train, grad)\n",
    "            self._trees.append(new_tree)\n",
    "\n",
    "            h_train += self._learning_rate * new_tree.predict(X_train)\n",
    "            h_valid += self._learning_rate * new_tree.predict(X_valid)\n",
    "\n",
    "            print(iteration,\n",
    "                  CountErrorPair(data_train, h_train),\n",
    "                  CountErrorPair(data_valid, h_valid),\n",
    "                  AverageNDCG(data_train, h_train, 5),\n",
    "                  AverageNDCG(data_valid, h_valid, 5),\n",
    "                  np.linalg.norm(grad))\n",
    "            iteration += 1\n",
    "            if (iteration == self._n_estimators):\n",
    "                break\n",
    "\n",
    "    def predict(self, X):\n",
    "        y_pred = np.zeros(X.shape[0])\n",
    "        for tree in self._trees:\n",
    "            y_pred += self._learning_rate * tree.predict(X)\n",
    "        return y_pred"
   ]
  },
  {
   "cell_type": "code",
   "execution_count": 5,
   "metadata": {
    "collapsed": true
   },
   "outputs": [],
   "source": [
    "def loadData():\n",
    "    trainPath = \"../data/train.data.cvs\"\n",
    "    return DataFrame.from_csv(trainPath, index_col=False).as_matrix()\n",
    "\n",
    "def saveResults(queries, rels, namefile):\n",
    "    uniq_queries = np.unique(queries)\n",
    "    ans = np.empty((rels.shape[0], 2), dtype=np.int)\n",
    "    count_last = 1\n",
    "    for q in uniq_queries:\n",
    "        rel = rels[queries == q]\n",
    "        order = np.argsort(rel)[::-1] + count_last\n",
    "        ans[queries == q, 0] = order\n",
    "        ans[queries == q, 1] = q\n",
    "        count_last += rel.shape[0]\n",
    "    df = DataFrame(ans, columns=[\"DocumentId\",\"QueryId\"])\n",
    "    df.to_csv(open(namefile, \"w\"), index=False)"
   ]
  },
  {
   "cell_type": "code",
   "execution_count": 6,
   "metadata": {
    "collapsed": false
   },
   "outputs": [],
   "source": [
    "rowData = loadData()"
   ]
  },
  {
   "cell_type": "code",
   "execution_count": 12,
   "metadata": {
    "collapsed": false
   },
   "outputs": [
    {
     "name": "stdout",
     "output_type": "stream",
     "text": [
      "0 10997352 2182105 0.249367039373 0.246395632003 20209.0698821\n",
      "1 11664915 2312115 0.265432862746 0.26698911086 19053.2349635\n",
      "2 12394560 2458194 0.268789254718 0.28040597538 18813.390141\n",
      "3 12585404 2497122 0.280587627993 0.277536595867 18496.4924065\n",
      "4 12658207 2516386 0.284968207532 0.284517094119 18302.1187058\n",
      "5 12711083 2529194 0.286785989516 0.281893926111 18145.9900913\n",
      "6 12693597 2529776 0.293618622286 0.286927268467 18045.4828133\n",
      "7 12684967 2531140 0.290455866698 0.287102920465 17927.4890443\n",
      "8 12672461 2532677 0.285057188744 0.285201978363 17850.3533104\n",
      "9 12657253 2537122 0.286728558377 0.28812375324 17780.7992087\n",
      "10 12619378 2534493 0.290542474936 0.286968484203 17717.3581174\n",
      "11 12603836 2534747 0.291962815283 0.286976667234 17598.034835\n",
      "12 12579357 2536172 0.292457529498 0.289767642673 17557.4507905\n",
      "13 12557774 2534211 0.293321024296 0.291106643945 17476.3764007\n",
      "14 12524696 2539642 0.294241384439 0.283990499296 17417.9410062\n",
      "15 12487399 2538790 0.297469259399 0.285386138659 17327.6094829\n",
      "16 12455744 2539338 0.298818801926 0.289350135708 17231.2405083\n",
      "17 12420945 2537140 0.300874599817 0.290926021802 17146.7638747\n",
      "18 12386415 2536722 0.297936043756 0.284804096021 17080.333632\n",
      "19 12372372 2536719 0.299075768506 0.283175312904 16994.9711647\n",
      "20 12354561 2537393 0.298759535409 0.280675457626 16952.6030056\n",
      "21 12340197 2537790 0.300039468571 0.280464689603 16885.3412256\n",
      "22 12327198 2536468 0.301413258559 0.279673296376 16845.9864187\n",
      "23 12311059 2537461 0.300672634633 0.278533933814 16810.1322771\n",
      "24 12295679 2536467 0.302033072594 0.280133077183 16767.4144023\n",
      "25 12277010 2538128 0.302262411853 0.281000996669 16731.7145058\n",
      "26 12256619 2537255 0.302917294191 0.283087293358 16696.4318276\n",
      "27 12235976 2537056 0.303120417013 0.284400040814 16640.5980895\n",
      "28 12222099 2535485 0.302453259898 0.289302727178 16576.5686658\n",
      "29 12211140 2535564 0.302167452355 0.289287929724 16540.8299439\n",
      "30 12193571 2537969 0.301266076611 0.28782994352 16506.5040098\n",
      "31 12182828 2538520 0.303569114281 0.287927994309 16455.7426613\n",
      "32 12153096 2537032 0.306200377011 0.284583686942 16430.6843416\n",
      "33 12134151 2536500 0.305795978736 0.28265353338 16363.2935002\n",
      "34 12116342 2538105 0.30578825005 0.280822208187 16318.9388174\n",
      "35 12100025 2538226 0.305970677875 0.279883262735 16273.3768431\n",
      "36 12081556 2538181 0.305754527792 0.278823342702 16214.9335973\n",
      "37 12067930 2540359 0.304284357926 0.275923272535 16167.9320587\n",
      "38 12045997 2540445 0.305419854469 0.27622828282 16132.4208076\n",
      "39 12038374 2540974 0.307109677103 0.279212320176 16085.8709483\n",
      "40 12025313 2540376 0.30747934365 0.281841055602 16071.4665262\n",
      "41 12007399 2541321 0.306988979135 0.28162729926 16048.1901348\n",
      "42 11993353 2538152 0.306944928829 0.281161808064 15974.8587088\n",
      "43 11983859 2537450 0.308051704723 0.279798518981 15940.0681362\n",
      "44 11969402 2536699 0.307535067799 0.279602257009 15916.0952255\n",
      "45 11962871 2536365 0.308511323477 0.281148459645 15873.3838375\n",
      "46 11946585 2539031 0.309118178464 0.282308124997 15859.5109384\n",
      "47 11928876 2539336 0.309263668616 0.283586537531 15823.921494\n",
      "48 11912678 2540010 0.3079326773 0.280149497707 15776.1528222\n",
      "49 11900837 2539520 0.308448792323 0.281451392986 15735.076475\n",
      "50 11888484 2540072 0.307278265249 0.281402250237 15705.0392242\n",
      "51 11868226 2539630 0.309012611349 0.28026594366 15682.0838995\n",
      "52 11857712 2539329 0.310396860344 0.280159465792 15643.3956099\n",
      "53 11838642 2538278 0.311021697632 0.281076809001 15613.1751149\n",
      "54 11826740 2538577 0.311035276545 0.281950400077 15556.0148197\n",
      "55 11812424 2539877 0.31119741206 0.282661022973 15527.950729\n",
      "56 11798618 2540973 0.310839307804 0.283597532977 15486.02351\n",
      "57 11789101 2540776 0.311521052699 0.282433655987 15450.9203268\n",
      "58 11769109 2541494 0.31083181293 0.27895190053 15426.7958501\n",
      "59 11759318 2541782 0.313095667747 0.279569799004 15379.7506923\n",
      "60 11748136 2543576 0.314556514407 0.279217770735 15359.841243\n",
      "61 11743137 2542852 0.314608464545 0.279775873455 15331.4034826\n",
      "62 11728309 2543906 0.313650651979 0.278702344057 15319.0429722\n",
      "63 11717506 2545234 0.3151340511 0.279439783354 15275.0757721\n",
      "64 11703225 2546299 0.315074488857 0.278751487013 15244.8505449\n",
      "65 11688989 2546524 0.317964204927 0.278529028996 15207.7575018\n",
      "66 11675290 2547993 0.318714783773 0.278700922364 15179.0671618\n",
      "67 11661432 2546578 0.319356036013 0.277571506297 15154.4959648\n",
      "68 11650798 2546431 0.320476906058 0.277383858083 15122.7853719\n",
      "69 11647389 2546183 0.321438327888 0.276319820724 15094.2565134\n",
      "70 11639871 2546311 0.321879559872 0.276717756154 15087.0354166\n"
     ]
    },
    {
     "ename": "KeyboardInterrupt",
     "evalue": "",
     "output_type": "error",
     "traceback": [
      "\u001b[0;31m---------------------------------------------------------------------------\u001b[0m",
      "\u001b[0;31mKeyboardInterrupt\u001b[0m                         Traceback (most recent call last)",
      "\u001b[0;32m<ipython-input-12-59f4a01cb7b1>\u001b[0m in \u001b[0;36m<module>\u001b[0;34m()\u001b[0m\n\u001b[1;32m      1\u001b[0m \u001b[0mestimator\u001b[0m \u001b[0;34m=\u001b[0m \u001b[0mLambdaRank\u001b[0m\u001b[0;34m(\u001b[0m\u001b[0mlearning_rate\u001b[0m\u001b[0;34m=\u001b[0m\u001b[0;36m0.05\u001b[0m\u001b[0;34m,\u001b[0m \u001b[0mn_estimators\u001b[0m\u001b[0;34m=\u001b[0m\u001b[0;36m100\u001b[0m\u001b[0;34m,\u001b[0m \u001b[0msigma\u001b[0m\u001b[0;34m=\u001b[0m\u001b[0;36m1\u001b[0m\u001b[0;34m,\u001b[0m \u001b[0mstart_depth\u001b[0m\u001b[0;34m=\u001b[0m\u001b[0;36m5\u001b[0m\u001b[0;34m)\u001b[0m\u001b[0;34m\u001b[0m\u001b[0m\n\u001b[0;32m----> 2\u001b[0;31m \u001b[0mestimator\u001b[0m\u001b[0;34m.\u001b[0m\u001b[0mfit\u001b[0m\u001b[0;34m(\u001b[0m\u001b[0mDATA\u001b[0m\u001b[0;34m=\u001b[0m\u001b[0mrowData\u001b[0m\u001b[0;34m,\u001b[0m \u001b[0mpersent_valid\u001b[0m\u001b[0;34m=\u001b[0m\u001b[0;36m0.2\u001b[0m\u001b[0;34m,\u001b[0m \u001b[0mnormalize\u001b[0m\u001b[0;34m=\u001b[0m\u001b[0mrelNormalize2\u001b[0m\u001b[0;34m,\u001b[0m \u001b[0mT_NDCG\u001b[0m\u001b[0;34m=\u001b[0m\u001b[0;36m30\u001b[0m\u001b[0;34m)\u001b[0m\u001b[0;34m\u001b[0m\u001b[0m\n\u001b[0m",
      "\u001b[0;32m<ipython-input-11-1772decc6bd1>\u001b[0m in \u001b[0;36mfit\u001b[0;34m(self, DATA, persent_valid, normalize, T_NDCG)\u001b[0m\n\u001b[1;32m     51\u001b[0m \u001b[0;34m\u001b[0m\u001b[0m\n\u001b[1;32m     52\u001b[0m             \u001b[0mnew_tree\u001b[0m \u001b[0;34m=\u001b[0m \u001b[0mDT\u001b[0m\u001b[0;34m(\u001b[0m\u001b[0mmax_depth\u001b[0m\u001b[0;34m=\u001b[0m\u001b[0mself\u001b[0m\u001b[0;34m.\u001b[0m\u001b[0m_start_depth\u001b[0m\u001b[0;34m)\u001b[0m\u001b[0;34m\u001b[0m\u001b[0m\n\u001b[0;32m---> 53\u001b[0;31m             \u001b[0mnew_tree\u001b[0m\u001b[0;34m.\u001b[0m\u001b[0mfit\u001b[0m\u001b[0;34m(\u001b[0m\u001b[0mX_train\u001b[0m\u001b[0;34m,\u001b[0m \u001b[0mgrad\u001b[0m\u001b[0;34m)\u001b[0m\u001b[0;34m\u001b[0m\u001b[0m\n\u001b[0m\u001b[1;32m     54\u001b[0m             \u001b[0mself\u001b[0m\u001b[0;34m.\u001b[0m\u001b[0m_trees\u001b[0m\u001b[0;34m.\u001b[0m\u001b[0mappend\u001b[0m\u001b[0;34m(\u001b[0m\u001b[0mnew_tree\u001b[0m\u001b[0;34m)\u001b[0m\u001b[0;34m\u001b[0m\u001b[0m\n\u001b[1;32m     55\u001b[0m \u001b[0;34m\u001b[0m\u001b[0m\n",
      "\u001b[0;32m/home/nina/anaconda3/lib/python3.5/site-packages/sklearn/tree/tree.py\u001b[0m in \u001b[0;36mfit\u001b[0;34m(self, X, y, sample_weight, check_input, X_idx_sorted)\u001b[0m\n\u001b[1;32m    375\u001b[0m                                            max_leaf_nodes, self.min_impurity_split)\n\u001b[1;32m    376\u001b[0m \u001b[0;34m\u001b[0m\u001b[0m\n\u001b[0;32m--> 377\u001b[0;31m         \u001b[0mbuilder\u001b[0m\u001b[0;34m.\u001b[0m\u001b[0mbuild\u001b[0m\u001b[0;34m(\u001b[0m\u001b[0mself\u001b[0m\u001b[0;34m.\u001b[0m\u001b[0mtree_\u001b[0m\u001b[0;34m,\u001b[0m \u001b[0mX\u001b[0m\u001b[0;34m,\u001b[0m \u001b[0my\u001b[0m\u001b[0;34m,\u001b[0m \u001b[0msample_weight\u001b[0m\u001b[0;34m,\u001b[0m \u001b[0mX_idx_sorted\u001b[0m\u001b[0;34m)\u001b[0m\u001b[0;34m\u001b[0m\u001b[0m\n\u001b[0m\u001b[1;32m    378\u001b[0m \u001b[0;34m\u001b[0m\u001b[0m\n\u001b[1;32m    379\u001b[0m         \u001b[0;32mif\u001b[0m \u001b[0mself\u001b[0m\u001b[0;34m.\u001b[0m\u001b[0mn_outputs_\u001b[0m \u001b[0;34m==\u001b[0m \u001b[0;36m1\u001b[0m\u001b[0;34m:\u001b[0m\u001b[0;34m\u001b[0m\u001b[0m\n",
      "\u001b[0;31mKeyboardInterrupt\u001b[0m: "
     ]
    }
   ],
   "source": [
    "estimator = LambdaRank(learning_rate=0.05, n_estimators=100, sigma=1, start_depth=3)\n",
    "estimator.fit(DATA=rowData, persent_valid=0.2, normalize=relNormalize2, T_NDCG=30)"
   ]
  },
  {
   "cell_type": "code",
   "execution_count": 13,
   "metadata": {
    "collapsed": true
   },
   "outputs": [],
   "source": [
    "testRow  = DataFrame.from_csv(\"../data/testset.cvs\", index_col=False).as_matrix()"
   ]
  },
  {
   "cell_type": "code",
   "execution_count": 14,
   "metadata": {
    "collapsed": true
   },
   "outputs": [],
   "source": [
    "ans = np.zeros(testRow.shape[0])\n",
    "_trees = estimator._trees\n",
    "for tree in _trees[:17]:\n",
    "    ans += tree.predict(testRow[:, 1:-1])\n",
    "saveResults(testRow[:, -1], ans, \"result10\")"
   ]
  },
  {
   "cell_type": "code",
   "execution_count": null,
   "metadata": {
    "collapsed": true
   },
   "outputs": [],
   "source": []
  }
 ],
 "metadata": {
  "kernelspec": {
   "display_name": "Python 3",
   "language": "python",
   "name": "python3"
  },
  "language_info": {
   "codemirror_mode": {
    "name": "ipython",
    "version": 3
   },
   "file_extension": ".py",
   "mimetype": "text/x-python",
   "name": "python",
   "nbconvert_exporter": "python",
   "pygments_lexer": "ipython3",
   "version": "3.5.2"
  }
 },
 "nbformat": 4,
 "nbformat_minor": 0
}
