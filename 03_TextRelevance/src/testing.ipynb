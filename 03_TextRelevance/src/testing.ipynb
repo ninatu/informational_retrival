{
 "cells": [
  {
   "cell_type": "code",
   "execution_count": 2,
   "metadata": {
    "collapsed": true
   },
   "outputs": [],
   "source": [
    "import re\n",
    "import json\n",
    "import os"
   ]
  },
  {
   "cell_type": "code",
   "execution_count": 3,
   "metadata": {
    "collapsed": true
   },
   "outputs": [],
   "source": [
    "dataPath = '../data'\n",
    "tfIdfPagesPath = '../data/features/tfidfPage'\n",
    "\n",
    "docsUrlsPath = '../data/urls.docs.txt'\n",
    "textdataPath = '../data/textdata'\n",
    "templateJson = '{:d}.json'\n",
    "samplePath = '../data/sample.csv'\n",
    "\n",
    "queriesDocsPath = '../data/queries.docs.txt'\n",
    "queriesPath = '../data/queries.numerate.txt'"
   ]
  },
  {
   "cell_type": "code",
   "execution_count": 25,
   "metadata": {
    "collapsed": false
   },
   "outputs": [],
   "source": [
    "pat = re.compile(r'\\d+')\n",
    "procNumbs = sorted(list(map(lambda x: int(pat.search(x).group(0)), os.listdir(textdataPath))))\n",
    "\n",
    "queriesDict = {}\n",
    "with open(queriesPath) as inputFile:\n",
    "    for line in inputFile:\n",
    "        number, query = line.strip().split('\\t')\n",
    "        queriesDict[number] = query\n",
    "        \n",
    "queriesDocsDict = json.load(open(queriesDocsPath))\n",
    "\n",
    "docsUrlsDict = {}\n",
    "with open(docsUrlsPath) as inputFile:\n",
    "    for line in inputFile:\n",
    "        number, url, path = line.strip().split('\\t')\n",
    "        docsUrlsDict[number] = (url, path)"
   ]
  },
  {
   "cell_type": "code",
   "execution_count": 72,
   "metadata": {
    "collapsed": false
   },
   "outputs": [],
   "source": [
    "\n",
    "for numb, query in queriesDict.items():\n",
    "    numbsDocs = queriesDocsDict[numb]\n",
    "    tfidfs = tfidfPages[numb]\n",
    "    tfidfs = map(lambda x: x if x is not None else -1, tfidfs)\n",
    "    pairs = sorted(zip(numbsDocs, tfidfs), key=lambda x: x[1], reverse=True)\n",
    "    badPairs = list(filter(lambda x: x[1] == -1, pairs))\n",
    "    goodPairs = list(filter(lambda x: x[1] != -1, pairs))\n",
    "    for badPair in badPairs:\n",
    "        goodPairs.insert(randint(0, len(goodPairs)), badPair)\n",
    "    #rank.setRanks(numb, list(map(lambda x: x[0], goodPairs)))\n",
    "    #pairs = list(zip(numbsDocs, tfidfs))\n",
    "    badDocs = filter(lambda x: x[1] == 0, goodPairs)\n",
    "    print(query)\n",
    "    for numbDoc, score in badDocs:\n",
    "        print(score, numbDoc, docsUrlsDict[str(numbDoc)])\n",
    "    #print(goodPairs)\n",
    "    break\n",
    "#rank.save(open('../results/1.csv', 'w'))"
   ]
  },
  {
   "cell_type": "code",
   "execution_count": 1,
   "metadata": {
    "collapsed": true
   },
   "outputs": [],
   "source": [
    "titlePath = '../data/features/tfidfTitle'\n",
    "keywordsPath = '../data/features/tfidfKeywords'\n",
    "descPath = '../data/features/tfidfDesc'"
   ]
  },
  {
   "cell_type": "code",
   "execution_count": 9,
   "metadata": {
    "collapsed": true
   },
   "outputs": [],
   "source": [
    "titlesTfidf = json.load(open(titlePath))\n",
    "titles = json.load(open('../data/subdata/titles'))"
   ]
  },
  {
   "cell_type": "code",
   "execution_count": 21,
   "metadata": {
    "collapsed": false
   },
   "outputs": [
    {
     "data": {
      "text/plain": [
       "'в каких проектах занят дмитрий шепелев'"
      ]
     },
     "execution_count": 21,
     "metadata": {},
     "output_type": "execute_result"
    }
   ],
   "source": [
    "queriesDict['4']"
   ]
  },
  {
   "cell_type": "code",
   "execution_count": 26,
   "metadata": {
    "collapsed": false
   },
   "outputs": [
    {
     "name": "stdout",
     "output_type": "stream",
     "text": [
      "('http://46tv.ru/line/russia/041932', 'data/12/4825757774730596876') Жанна Фриске похоронена на Николо-Архангельском кладбище в Москве\n",
      "('http://46tv.ru/line/russia/2013/04/08', 'data/63/7006249106538269080') Новости. Одной строкой. В России (8 апреля 2013 года)\n",
      "('http://46tv.ru/line/russia/2014/01/21', 'data/81/-3931541004287955849') Новости. Одной строкой. В России (21 января 2014 года)\n",
      "('http://7days.us/televidenie-bez-prikras', 'data/48/4680065262665034686') Телевидение без прикрас | 7 Дней\n",
      "('http://abzac.org/?p=51586', 'data/97/-4168013686351335269') Шепелев покинул карьеру ведущего ради Жанны | Абзац: Актуальные новости\n",
      "('http://aratta-ukraine.com/phorum/read.php?1,6043', 'data/51/-1522995732684166793') ЛЕНИН и РАДЕК: Провокаторы Первой мировой войны и Германские шпионы\n",
      "('http://belaya-glina.ru/about/info/news/index.php?PAGEN_1=7', 'data/77/-2886469263860148097') Новости - Белоглинский район\n",
      "('http://blokada.otrok.ru/library/novikov/02.htm', 'data/92/7806288406701117725') Июнь—июль 1941 года  - Новиков А. А. В небе Ленинграда - Ленинград Блокада Подвиг\n",
      "('http://bloknot-rostov.ru/?PAGEN_1=3&PAGEN_2=2&back_url_admin=%2Fbitrix%2Fadmin%2Fbloknotadv_banner_menu.php', 'data/97/4207227376220287038') Блокнот - Новости Ростова-на-Дону. Информационный портал Ростова-на-Дону. Новости бизнеса, политики, культуры и спорта. Гороскоп.\n",
      "('http://bolshoyvopros.ru/questions/988724-kakuju-peredachu-vedet-dmitrij-shepelevkakuju-programmu-vedet-dmitrij-shepelev.html', 'data/13/7450180768906958163') Какую передачу ведет Дмитрий Шепелев?Какую программу ведет Дмитрий Шепелев?\n",
      "('http://chistopol-rt.ru/ru/the-news/item/10418-uvazhaemyie-kollegi-s-prazdnikom.html', 'data/2/-2567318861598147510') Уважаемые коллеги, с праздником! - Чистопольские известияУважаемые коллеги, с праздником! - Чистопольские известия\n"
     ]
    },
    {
     "ename": "ValueError",
     "evalue": "4197 is not in list",
     "output_type": "error",
     "traceback": [
      "\u001b[0;31m---------------------------------------------------------------------------\u001b[0m",
      "\u001b[0;31mValueError\u001b[0m                                Traceback (most recent call last)",
      "\u001b[0;32m<ipython-input-26-83944781ea42>\u001b[0m in \u001b[0;36m<module>\u001b[0;34m()\u001b[0m\n\u001b[1;32m      1\u001b[0m \u001b[0;32mfor\u001b[0m \u001b[0mnumbDoc\u001b[0m \u001b[0;32min\u001b[0m \u001b[0mqueriesDocsDict\u001b[0m\u001b[0;34m[\u001b[0m\u001b[0;34m'4'\u001b[0m\u001b[0;34m]\u001b[0m\u001b[0;34m:\u001b[0m\u001b[0;34m\u001b[0m\u001b[0m\n\u001b[0;32m----> 2\u001b[0;31m     \u001b[0mprint\u001b[0m\u001b[0;34m(\u001b[0m\u001b[0mdocsUrlsDict\u001b[0m\u001b[0;34m[\u001b[0m\u001b[0mstr\u001b[0m\u001b[0;34m(\u001b[0m\u001b[0mnumbDoc\u001b[0m\u001b[0;34m)\u001b[0m\u001b[0;34m]\u001b[0m\u001b[0;34m,\u001b[0m \u001b[0mtitles\u001b[0m\u001b[0;34m[\u001b[0m\u001b[0mprocNumbs\u001b[0m\u001b[0;34m.\u001b[0m\u001b[0mindex\u001b[0m\u001b[0;34m(\u001b[0m\u001b[0mnumbDoc\u001b[0m\u001b[0;34m)\u001b[0m\u001b[0;34m]\u001b[0m\u001b[0;34m)\u001b[0m\u001b[0;34m\u001b[0m\u001b[0m\n\u001b[0m",
      "\u001b[0;31mValueError\u001b[0m: 4197 is not in list"
     ]
    }
   ],
   "source": [
    "for numbDoc in queriesDocsDict['4']:\n",
    "    print(docsUrlsDict[str(numbDoc)], titles[procNumbs.index(numbDoc)])"
   ]
  },
  {
   "cell_type": "code",
   "execution_count": null,
   "metadata": {
    "collapsed": true
   },
   "outputs": [],
   "source": []
  }
 ],
 "metadata": {
  "kernelspec": {
   "display_name": "Python 3",
   "language": "python",
   "name": "python3"
  },
  "language_info": {
   "codemirror_mode": {
    "name": "ipython",
    "version": 3
   },
   "file_extension": ".py",
   "mimetype": "text/x-python",
   "name": "python",
   "nbconvert_exporter": "python",
   "pygments_lexer": "ipython3",
   "version": "3.5.2"
  }
 },
 "nbformat": 4,
 "nbformat_minor": 0
}
