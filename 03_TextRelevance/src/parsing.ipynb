{
 "cells": [
  {
   "cell_type": "code",
   "execution_count": 1,
   "metadata": {
    "collapsed": true
   },
   "outputs": [],
   "source": [
    "import json\n",
    "from bs4 import BeautifulSoup\n",
    "from html.parser import HTMLParser\n",
    "from collections import defaultdict"
   ]
  },
  {
   "cell_type": "markdown",
   "metadata": {},
   "source": [
    "Сохранение словаря: номер запроса: номера документов "
   ]
  },
  {
   "cell_type": "code",
   "execution_count": null,
   "metadata": {
    "collapsed": true
   },
   "outputs": [],
   "source": [
    "import json\n",
    "queryDocs = {}\n",
    "for numb in numbQueries:\n",
    "    queryDocs[int(numb)] = list(map(int, list(groupSample.get_group(numb)[\"DocumentId\"])))    \n",
    "json.dump(queryDocs, open(queriesDocsPath, 'w'))"
   ]
  },
  {
   "cell_type": "code",
   "execution_count": null,
   "metadata": {
    "collapsed": true
   },
   "outputs": [],
   "source": [
    "class PageText:\n",
    "    def __init__(self, title='', description='', keywords='', textDir={}, attrDir={}, number=-1, url=''):\n",
    "        self._title = title\n",
    "        self._description = description\n",
    "        self._keywords = keywords\n",
    "        self._textDir = textDir\n",
    "        self._attrDir = attrDir\n",
    "        self._number = number\n",
    "        self._url = url\n",
    "        \n",
    "    def setNumber(self, number):\n",
    "        self._number = number\n",
    "        \n",
    "    def setUrl(self, url):\n",
    "        self._url = url\n",
    "        \n",
    "    def toDict(self):\n",
    "        return {\"number\":self._number,\n",
    "                \"url\":self._url,\n",
    "                \"title\":self._title, \n",
    "                \"description\":self._description, \n",
    "                \"keywords\": self._keywords,\n",
    "                \"text\": self._textDir,\n",
    "                \"attr\": self._attrDir}"
   ]
  },
  {
   "cell_type": "code",
   "execution_count": 3,
   "metadata": {
    "collapsed": false
   },
   "outputs": [],
   "source": [
    "class TextHTMLParser(HTMLParser):\n",
    "    def __init__(self):\n",
    "        HTMLParser.__init__(self)\n",
    "        self._textDir = defaultdict(list)\n",
    "        self._interestAttrs = ['title', 'alt']\n",
    "        self._attrDir = defaultdict(lambda: dict.fromkeys(self._interestAttrs, []))\n",
    "        \n",
    "        self._title = ''\n",
    "        self._description = ''\n",
    "        self._keywords = ''        \n",
    "        \n",
    "        self.__curTag = None\n",
    "               \n",
    "    def handle_starttag(self, tag, attrs):\n",
    "        attrs_dict = dict(attrs)\n",
    "        if tag == 'meta':            \n",
    "            name = attrs_dict.get('name', '')\n",
    "            if name == 'description':\n",
    "                self._description = attrs_dict.get('content', '').strip()\n",
    "            if name == 'keywords':\n",
    "                self._keywords = attrs_dict.get('content', '').strip()   \n",
    "                \n",
    "        for attr in self._interestAttrs:\n",
    "            value = attrs_dict.get(attr, '').strip()\n",
    "            if value:\n",
    "                self._attrDir[tag][attr].append(value) \n",
    "        self.__curTag = tag\n",
    "        \n",
    "    def handle_data(self, data):\n",
    "        if data.strip():\n",
    "            data = data.strip()\n",
    "            if self.__curTag == 'title':\n",
    "                self._title = self._title + data\n",
    "            elif self.__curTag != 'script':\n",
    "                self._textDir[self.__curTag].append(data)\n",
    "    def pageText(self):\n",
    "        return PageText(self._title, self._description, self._keywords, self._textDir, self._attrDir)\n",
    "\n",
    "    def handle_endtag(self, tag):\n",
    "        pass\n",
    "    def clear(self):\n",
    "        self._textDir = defaultdict(list)\n",
    "        self._attrDir = defaultdict(lambda: dict.fromkeys(self._interestAttrs, []))        \n",
    "        self._title = ''\n",
    "        self._description = ''\n",
    "        self._keywords = ''                \n",
    "        self.__curTag = None"
   ]
  },
  {
   "cell_type": "code",
   "execution_count": 4,
   "metadata": {
    "collapsed": true
   },
   "outputs": [],
   "source": [
    "dataPath = '../data'\n",
    "docUrlsName = '../data/urls.docs.txt'\n",
    "textdataPath = '../data/textdata'\n",
    "templateJson = '{:d}.json'"
   ]
  },
  {
   "cell_type": "code",
   "execution_count": 5,
   "metadata": {
    "collapsed": true
   },
   "outputs": [],
   "source": [
    "docDict = {}\n",
    "with open(docUrlsName) as inputFile:\n",
    "    for line in inputFile:\n",
    "        number, url, path = line.strip().split('\\t')\n",
    "        docDict[int(number)] = (url, path)"
   ]
  },
  {
   "cell_type": "markdown",
   "metadata": {},
   "source": [
    "# Парсим документы(создаем json файлы с текстом и значения некоторых атрибутов, таких как title и alt"
   ]
  },
  {
   "cell_type": "code",
   "execution_count": 57,
   "metadata": {
    "collapsed": true
   },
   "outputs": [],
   "source": [
    "def tryParse(parser, fileInput):\n",
    "    try:\n",
    "        parser.clear()\n",
    "        parser.feed(fileInput.read())\n",
    "        return True\n",
    "    except Exception:\n",
    "        return False"
   ]
  },
  {
   "cell_type": "code",
   "execution_count": 58,
   "metadata": {
    "collapsed": false
   },
   "outputs": [],
   "source": [
    "encods = ['utf-8', 'windows-1251']\n",
    "for number, (url, path) in docDict.items():\n",
    "    relativePath = '{:s}/{:s}'.format(dataPath, path)\n",
    "    outputPath = '{:s}/{:s}'.format(textdataPath, templateJson.format(number))    \n",
    "    for encod in encods:\n",
    "        parser = TextHTMLParser()\n",
    "        fileInput = open(relativePath, encoding=encod)\n",
    "        ans = tryParse(parser, fileInput)\n",
    "        if ans:\n",
    "            page = parser.pageText()\n",
    "            page.setNumber(number)\n",
    "            page.setUrl(url)\n",
    "            json.dump(page.toDict(), open(outputPath, 'w'))\n",
    "            fileInput.close()\n",
    "            break\n",
    "        fileInput.close()       "
   ]
  },
  {
   "cell_type": "markdown",
   "metadata": {},
   "source": [
    "Документы, которые не распарсились"
   ]
  },
  {
   "cell_type": "code",
   "execution_count": 61,
   "metadata": {
    "collapsed": false
   },
   "outputs": [],
   "source": [
    "import os\n",
    "import re\n",
    "pat = re.compile(r'\\d+')\n",
    "procNumbs = set( map(lambda x: int(pat.search(x).group(0)), os.listdir(textdataPath)))\n",
    "allNumbs = set(docDict.keys())\n",
    "errorNumbs = allNumbs.difference(procNumbs)"
   ]
  },
  {
   "cell_type": "code",
   "execution_count": 65,
   "metadata": {
    "collapsed": false
   },
   "outputs": [
    {
     "name": "stdout",
     "output_type": "stream",
     "text": [
      "1587\n"
     ]
    }
   ],
   "source": [
    "print(len(errorNumbs))"
   ]
  }
 ],
 "metadata": {
  "anaconda-cloud": {},
  "kernelspec": {
   "display_name": "Python 3",
   "language": "python",
   "name": "python3"
  },
  "language_info": {
   "codemirror_mode": {
    "name": "ipython",
    "version": 3
   },
   "file_extension": ".py",
   "mimetype": "text/x-python",
   "name": "python",
   "nbconvert_exporter": "python",
   "pygments_lexer": "ipython3",
   "version": "3.5.2"
  }
 },
 "nbformat": 4,
 "nbformat_minor": 0
}
