{
 "cells": [
  {
   "cell_type": "code",
   "execution_count": 1,
   "metadata": {
    "collapsed": true
   },
   "outputs": [],
   "source": [
    "import json\n",
    "from sklearn.externals import joblib\n",
    "import os\n",
    "import re\n",
    "import numpy as np\n",
    "from random import randint\n",
    "from pandas import DataFrame"
   ]
  },
  {
   "cell_type": "code",
   "execution_count": 2,
   "metadata": {
    "collapsed": true
   },
   "outputs": [],
   "source": [
    "dataPath = '../data'\n",
    "tfIdfPagesPath = '../data/features/tfidfPage'\n",
    "\n",
    "docsUrlsPath = '../data/urls.docs.txt'\n",
    "textdataPath = '../data/textdata'\n",
    "templateJson = '{:d}.json'\n",
    "samplePath = '../data/sample.csv'\n",
    "\n",
    "queriesDocsPath = '../data/queries.docs.txt'\n",
    "queriesPath = '../data/queries.numerate.txt'"
   ]
  },
  {
   "cell_type": "code",
   "execution_count": 3,
   "metadata": {
    "collapsed": false
   },
   "outputs": [],
   "source": [
    "pat = re.compile(r'\\d+')\n",
    "procNumbs = set(map(lambda x: int(pat.search(x).group(0)), os.listdir(textdataPath)))\n",
    "\n",
    "queriesDict = {}\n",
    "with open(queriesPath) as inputFile:\n",
    "    for line in inputFile:\n",
    "        number, query = line.strip().split('\\t')\n",
    "        queriesDict[number] = query\n",
    "        \n",
    "queriesDocsDict = json.load(open(queriesDocsPath))\n",
    "\n",
    "docsUrlsDict = {}\n",
    "with open(docsUrlsPath) as inputFile:\n",
    "    for line in inputFile:\n",
    "        number, url, path = line.strip().split('\\t')\n",
    "        docsUrlsDict[number] = (url, path)"
   ]
  },
  {
   "cell_type": "markdown",
   "metadata": {},
   "source": [
    "# Ранжирование"
   ]
  },
  {
   "cell_type": "code",
   "execution_count": 4,
   "metadata": {
    "collapsed": true
   },
   "outputs": [],
   "source": [
    "class Rank:\n",
    "    def __init__(self):\n",
    "        self._ranks = {}\n",
    "    def setRanks(self, numbQuery, listPages):\n",
    "        self._ranks[numbQuery] = listPages\n",
    "    def save(self, fileOutput):\n",
    "        rankList = ([[q, d] for q, docs in sorted(self._ranks.items(), key=lambda x: int(x[0])) for d in docs])\n",
    "        dataFrame = DataFrame.from_records(rankList, columns=['QueryId', 'DocumentId'])\n",
    "        dataFrame.to_csv(fileOutput, index=False)        "
   ]
  },
  {
   "cell_type": "code",
   "execution_count": 10,
   "metadata": {
    "collapsed": true
   },
   "outputs": [],
   "source": [
    "tfIdfVectorizerPath = '../data/models/tfIdfVectorizer.pkl'\n",
    "tfidfVectorizer = joblib.load(tfIdfVectorizerPath)"
   ]
  },
  {
   "cell_type": "code",
   "execution_count": 6,
   "metadata": {
    "collapsed": false
   },
   "outputs": [],
   "source": [
    "tfIdfFullText = '../data/features/tfidfFullText'\n",
    "titlePath = '../data/features/tfidfTitle'\n",
    "keywordsPath = '../data/features/tfidfKeywords'\n",
    "descPath = '../data/features/tfidfDesc'\n",
    "\n",
    "#tfIdfFullPagesPath = '../data/tfidfFullPages'\n",
    "tfidfPages = json.load(open(tfIdfFullText))\n",
    "titleTfidf = json.load(open(titlePath))\n",
    "keywordsTfidf = json.load(open(keywordsPath))\n",
    "descTfidf = json.load(open(descPath))\n",
    "\n",
    "rank = Rank()\n",
    "for numb, query in queriesDict.items():\n",
    "    numbsDocs = queriesDocsDict[numb]\n",
    "    tfidfs = zip(tfidfPages[numb], titleTfidf[numb], keywordsTfidf[numb], descTfidf[numb])\n",
    "    tfidfs = map(lambda x: sum(x) if x[0] is not None else -1, tfidfs)\n",
    "    #tfidfs = map(lambda x: x if x is not None else -1, tfidfs)\n",
    "    pairs = sorted(zip(numbsDocs, tfidfs), key=lambda x: x[1], reverse=True)\n",
    "    badPairs = list(filter(lambda x: x[1] == -1, pairs))\n",
    "    goodPairs = list(filter(lambda x: x[1] != -1, pairs))\n",
    "    for badPair in badPairs:\n",
    "        goodPairs.insert(randint(0, len(goodPairs)), badPair)\n",
    "    rank.setRanks(numb, list(map(lambda x: x[0], goodPairs)))\n",
    "    #pairs = list(zip(numbsDocs, tfidfs))\n",
    "    #print(badPairs, goodPairs)\n",
    "    #break\n",
    "rank.save(open('../results/3.csv', 'w'))"
   ]
  },
  {
   "cell_type": "code",
   "execution_count": null,
   "metadata": {
    "collapsed": true
   },
   "outputs": [],
   "source": [
    "tff\n",
    "for numb in procNumbs:\n",
    "    filename = templateJson.format(numb)\n",
    "    path = '{:s}/{:s}'.format(textdataPath, filename)\n",
    "    pageDict = json.load(open(path))\n",
    "    text = []\n",
    "    for value in pageDict['text'].values():\n",
    "        text.extend(value)\n",
    "    text = '\\n'.join(text)\n",
    "\n",
    "    data[\"numbs\"].append(numb)\n",
    "    data[\"strings\"].append(text)\n",
    "    sizeMemory += len(text)"
   ]
  },
  {
   "cell_type": "code",
   "execution_count": 31,
   "metadata": {
    "collapsed": false
   },
   "outputs": [],
   "source": [
    "rank = Rank()\n",
    "rank.setRanks(1, [7,3 ,5])\n",
    "rank.setRanks(2, [4,4 ,5])\n",
    "rank.save(open('prob2.csv', 'w'))"
   ]
  },
  {
   "cell_type": "code",
   "execution_count": 24,
   "metadata": {
    "collapsed": false
   },
   "outputs": [
    {
     "data": {
      "text/plain": [
       "set()"
      ]
     },
     "execution_count": 24,
     "metadata": {},
     "output_type": "execute_result"
    }
   ],
   "source": [
    "set(map(str, range(1, 26000))).difference(set(docsUrlsDict.keys()))"
   ]
  },
  {
   "cell_type": "code",
   "execution_count": 33,
   "metadata": {
    "collapsed": false
   },
   "outputs": [
    {
     "name": "stdout",
     "output_type": "stream",
     "text": [
      "как правильно делать упражнения на пресс\n",
      "0.0 320 ('http://4pda.ru/forum/index.php?showtopic=544531&st=80', 'data/45/-8442232451991613628')\n",
      "0.0 366 ('http://4pda.ru/forum/lofiversion/index.php?t544531-200.html', 'data/18/-2907521776990443675')\n",
      "0.0 1250 ('http://archmage.ucoz.ru/publ/3-1-0-5', 'data/37/945463975690571346')\n",
      "0.0 2580 ('http://bklpakera.wordpress.com/2010/12/15/pravilnoe-pitanie-dlya-rosta-myshc', 'data/68/-7845566870890540808')\n",
      "0.0 2892 ('http://bookz.ru/authors/aleks-stuart/vidohnit_632/page-2-vidohnit_632.html', 'data/79/-3529001125184783579')\n",
      "0.0 4937 ('http://doublepunch.ru/publ/poleznaja_informacija/nuzhno_znat/ne_mogu_nabrat_ves_ili_pochemu_ja_eshhe_drishh/27-1-0-278', 'data/15/-3188449884832120773')\n",
      "0.0 5308 ('http://e1.ru/talk/forum/read.php?f=80&i=25225&t=25225', 'data/55/-6359432213117171445')\n",
      "0.0 8520 ('http://gvol.ru/viewtopic.php?postdays=0&postorder=asc&start=15&t=29324', 'data/15/-8622131629633960802')\n",
      "0.0 9008 ('http://idealbody.org/threads/%D0%A8%D0%BF%D0%B0%D0%B3%D0%B0%D1%82-%D0%A1%D0%BE%D0%B2%D0%B5%D1%82%D1%8B-%D0%B1%D1%8B%D0%B2%D0%B0%D0%BB%D1%8B%D1%85.65', 'data/69/-4369498731626740715')\n",
      "0.0 9224 ('http://infourok.ru/atleticheskaya-gimnastika-kak-vid-sporta-1112754.html', 'data/34/6931376421435586141')\n",
      "0.0 12263 ('http://liveinternet.ru/users/angela200044/blog', 'data/75/-1379406987230926153')\n",
      "0.0 12499 ('http://liveinternet.ru/users/ya_molodaya_mama/post246027500', 'data/75/9061689723062052815')\n",
      "0.0 13399 ('http://medznate.ru/docs/index-5124.html?page=6', 'data/97/1258855902985301459')\n",
      "0.0 14453 ('http://mumsovet.ru/kak-nakachat-press-v-domashnix-usloviyax-2.html', 'data/12/5137450422066610644')\n",
      "0.0 14478 ('http://musicforums.ru/vocal_arc/1191424417_last.html', 'data/53/6382226500174172506')\n",
      "0.0 14636 ('http://mylady.mybb.ru/viewtopic.php?id=164', 'data/65/-3333903031088607862')\n",
      "0.0 18081 ('http://propeno.3dn.ru/publ/poleznye_sovety/uprazhnenija_i_trenirovka/108-1', 'data/39/-2749231540053404057')\n",
      "0.0 19370 ('http://ronl.ru/referaty/fizra_i_sport/215002', 'data/14/6752639173253154297')\n",
      "0.0 19897 ('http://rutube.ru/video/fb9ac1b0e8f5c74b7948a2a807d9a94b', 'data/29/-719563967542888832')\n",
      "0.0 20121 ('http://sabrina-club.com/323', 'data/4/3217742523639822863')\n",
      "0.0 20407 ('http://savedwebhistory.org/k/%D0%BE%D1%82%D0%B6%D0%B8%D0%BC%D0%B0%D0%BD%D0%B8%D1%8F-%D0%BF%D1%80%D0%BE%D0%B3%D1%80%D0%B0%D0%BC%D0%BC%D0%B0', 'data/95/-1788099637560246879')\n",
      "0.0 21118 ('http://slideshare.net/misteraleko/ss-48709267', 'data/37/-191057588381683734')\n",
      "0.0 22427 ('http://sud-sosh1.ru/rabochie-programmy/318-rabochaya-programma-po-geografii-6-klass.html', 'data/21/8190655096728653769')\n",
      "0.0 23331 ('http://travelexpress.lt/fizicheskaja-reabilitatsija-v-travmatologii-i-ortopedii/fizicheskaya-reabilitatsiya-pri-narusheniyakh-osanki-skoliozakh-i-ploskostopii.html', 'data/91/5852811235284409271')\n",
      "0.0 24475 ('http://vk.com/ee_spice', 'data/52/-1927778313323660460')\n",
      "0.0 24525 ('http://vk.com/pavelgnom', 'data/88/-1638829434893160418')\n",
      "0.0 24533 ('http://vk.com/streetworkoutmarganez', 'data/22/3136127257149301186')\n",
      "0.0 25197 ('http://wikibit.me/v/%D0%B4%D0%B5%D0%BD%D0%B8%D1%81-%D1%81%D0%B5%D0%BC%D0%B5%D0%BD%D0%B8%D1%85%D0%B8%D0%BD-%D0%BA%D0%B0%D0%BA-%D0%BF%D1%80%D0%BE%D0%B2%D0%B8%D0%BB%D0%BD%D0%BE-%D0%BD%D0%B0%D0%BA%D0%B0%D1%87%D0%B0%D1%82-%D0%B3%D1%80%D1%83%D0%B4%D0%BD%D1%8B%D0%B5-%D0%BC%D1%8B%D1%88%D1%86%D1%8B', 'data/32/5151249144629186537')\n",
      "0.0 25988 ('http://yourepeat.com/g/%D0%B1%D1%80%D1%83%D1%81%D1%8C%D1%8F.?d=short', 'data/1/8080630375490235899')\n",
      "0.0 25996 ('http://yourepeat.com/g/%D1%88%D0%BF%D0%B0%D0%B3%D0%B0%D1%82%D0%B0?f=hd', 'data/48/-8986451620859705254')\n"
     ]
    }
   ],
   "source": [
    "for numb, query in queriesDict.items():\n",
    "    numbsDocs = queriesDocsDict[numb]\n",
    "    tfidfs = tfidfPages[numb]\n",
    "    tfidfs = map(lambda x: x if x is not None else -1, tfidfs)\n",
    "    pairs = sorted(zip(numbsDocs, tfidfs), key=lambda x: x[1], reverse=True)\n",
    "    badPairs = list(filter(lambda x: x[1] == -1, pairs))\n",
    "    goodPairs = list(filter(lambda x: x[1] != -1, pairs))\n",
    "    for badPair in badPairs:\n",
    "        goodPairs.insert(randint(0, len(goodPairs)), badPair)\n",
    "    #rank.setRanks(numb, list(map(lambda x: x[0], goodPairs)))\n",
    "    #pairs = list(zip(numbsDocs, tfidfs))\n",
    "    badDocs = filter(lambda x: x[1] == 0, goodPairs)\n",
    "    print(query)\n",
    "    for numbDoc, score in badDocs:\n",
    "        print(score, numbDoc, docsUrlsDict[str(numbDoc)])\n",
    "    #print(goodPairs)\n",
    "    break\n",
    "#rank.save(open('../results/1.csv', 'w'))"
   ]
  },
  {
   "cell_type": "code",
   "execution_count": 6,
   "metadata": {
    "collapsed": false
   },
   "outputs": [],
   "source": [
    "page = json.load(open(\"../data/textdata/320.json\"))"
   ]
  },
  {
   "cell_type": "code",
   "execution_count": 7,
   "metadata": {
    "collapsed": false
   },
   "outputs": [
    {
     "data": {
      "text/plain": [
       "dict_keys(['input', 'a', 'sup', 'img', 'td', 'i', 'br', 'span', 'b', 'strong', 'font', 'div'])"
      ]
     },
     "execution_count": 7,
     "metadata": {},
     "output_type": "execute_result"
    }
   ],
   "source": [
    "page['text'].keys()"
   ]
  },
  {
   "cell_type": "code",
   "execution_count": 9,
   "metadata": {
    "collapsed": false
   },
   "outputs": [
    {
     "data": {
      "text/plain": [
       "['Внимание!',\n",
       " '04.02.2014, 14:41',\n",
       " 'FitTrainer1.4.1.apk',\n",
       " '( 9,73 МБ )',\n",
       " 'FitTrainer1.4.apk',\n",
       " '( 9,7 МБ )',\n",
       " 'FitTrainer1.3.1.apk',\n",
       " '( 9,53 МБ )',\n",
       " 'FitTrainer1.3.apk',\n",
       " '( 9,08 МБ )',\n",
       " '22.02.2014, 14:47',\n",
       " '22.02.2014, 14:52',\n",
       " '24.02.2014, 11:02',\n",
       " '25.02.2014, 21:35',\n",
       " '26.02.2014, 18:17',\n",
       " '28.02.2014, 13:31',\n",
       " '28.02.2014, 14:40',\n",
       " '05.03.2014, 13:15',\n",
       " '10.03.2014, 10:56',\n",
       " '10.03.2014, 15:45',\n",
       " '12.03.2014, 16:08',\n",
       " '13.03.2014, 12:18',\n",
       " '14.03.2014, 19:16',\n",
       " '01.04.2014, 16:44',\n",
       " '01.04.2014, 22:48',\n",
       " '04.04.2014, 11:34',\n",
       " '08.05.2014, 23:07',\n",
       " '09.05.2014, 11:42',\n",
       " '09.05.2014, 14:30',\n",
       " '11.05.2014, 11:17',\n",
       " 'Быстрый ответ']"
      ]
     },
     "execution_count": 9,
     "metadata": {},
     "output_type": "execute_result"
    }
   ],
   "source": [
    "page['text']['img']"
   ]
  },
  {
   "cell_type": "code",
   "execution_count": 74,
   "metadata": {
    "collapsed": false
   },
   "outputs": [],
   "source": [
    "dataFrame = DataFrame([[1, 2]], columns={'QueryId', 'DocumentId'})"
   ]
  },
  {
   "cell_type": "code",
   "execution_count": 67,
   "metadata": {
    "collapsed": false
   },
   "outputs": [
    {
     "ename": "TypeError",
     "evalue": "append() got an unexpected keyword argument 'columns'",
     "output_type": "error",
     "traceback": [
      "\u001b[0;31m---------------------------------------------------------------------------\u001b[0m",
      "\u001b[0;31mTypeError\u001b[0m                                 Traceback (most recent call last)",
      "\u001b[0;32m<ipython-input-67-915e2840b4c8>\u001b[0m in \u001b[0;36m<module>\u001b[0;34m()\u001b[0m\n\u001b[0;32m----> 1\u001b[0;31m \u001b[0mdataFrame\u001b[0m\u001b[0;34m.\u001b[0m\u001b[0mappend\u001b[0m\u001b[0;34m(\u001b[0m\u001b[0;34m[\u001b[0m\u001b[0;34m(\u001b[0m\u001b[0;36m1\u001b[0m\u001b[0;34m,\u001b[0m \u001b[0;36m2\u001b[0m\u001b[0;34m)\u001b[0m\u001b[0;34m]\u001b[0m\u001b[0;34m,\u001b[0m \u001b[0mcolumns\u001b[0m\u001b[0;34m=\u001b[0m\u001b[0;34m{\u001b[0m\u001b[0;34m'QueryId'\u001b[0m\u001b[0;34m,\u001b[0m \u001b[0;34m'DocumentId'\u001b[0m\u001b[0;34m}\u001b[0m\u001b[0;34m)\u001b[0m\u001b[0;34m\u001b[0m\u001b[0m\n\u001b[0m",
      "\u001b[0;31mTypeError\u001b[0m: append() got an unexpected keyword argument 'columns'"
     ]
    }
   ],
   "source": [
    "dataFrame.append([(1, 2)], columns={'QueryId', 'DocumentId'})"
   ]
  },
  {
   "cell_type": "code",
   "execution_count": 75,
   "metadata": {
    "collapsed": false
   },
   "outputs": [
    {
     "data": {
      "text/html": [
       "<div>\n",
       "<table border=\"1\" class=\"dataframe\">\n",
       "  <thead>\n",
       "    <tr style=\"text-align: right;\">\n",
       "      <th></th>\n",
       "      <th>DocumentId</th>\n",
       "      <th>QueryId</th>\n",
       "    </tr>\n",
       "  </thead>\n",
       "  <tbody>\n",
       "    <tr>\n",
       "      <th>0</th>\n",
       "      <td>1</td>\n",
       "      <td>2</td>\n",
       "    </tr>\n",
       "  </tbody>\n",
       "</table>\n",
       "</div>"
      ],
      "text/plain": [
       "   DocumentId  QueryId\n",
       "0           1        2"
      ]
     },
     "execution_count": 75,
     "metadata": {},
     "output_type": "execute_result"
    }
   ],
   "source": []
  },
  {
   "cell_type": "code",
   "execution_count": 8,
   "metadata": {
    "collapsed": false
   },
   "outputs": [],
   "source": [
    "import json\n",
    "path = '../data/normalizedata/1.json'\n",
    "data = json.load(open(path))"
   ]
  },
  {
   "cell_type": "code",
   "execution_count": 9,
   "metadata": {
    "collapsed": false
   },
   "outputs": [
    {
     "data": {
      "text/plain": [
       "{'attr': {'a': ['titl', 'alt'], 'img': ['titl', 'alt']},\n",
       " 'description': 'центр услуг 007 предлага курьерск доставк в санкт-петербург и пригород . срочн выз курьер для доставк документ в спб',\n",
       " 'keywords': 'доставк , документ , курьер , курьерск служб , услуг санкт петербург , питер , спб',\n",
       " 'number': 1,\n",
       " 'text': {'a': ['о компан',\n",
       "   'контакт',\n",
       "   'корпоративн клиент',\n",
       "   'владельц карт постоя клиент',\n",
       "   'лиценз и сертификат',\n",
       "   'партнер',\n",
       "   'предложен для тсж и жск',\n",
       "   'ваканс',\n",
       "   'отзыв',\n",
       "   'уз — устройств защитн отключен',\n",
       "   'отоплен в частн дом',\n",
       "   'химчистк ковров покрыт',\n",
       "   'профессиональн чистк мягк мебел',\n",
       "   'гарант качеств услуг',\n",
       "   'телефон служб ремонтир , корм и развлека …',\n",
       "   'уз — устройств защитн отключен',\n",
       "   'отоплен в частн дом',\n",
       "   'химчистк ковров покрыт',\n",
       "   'профессиональн чистк мягк мебел',\n",
       "   'гарант качеств услуг',\n",
       "   'телефон служб ремонтир , корм и развлека …',\n",
       "   'осен снижен цен на натяжн потолк',\n",
       "   'акц по ремонт квартир под ключ класс люкс',\n",
       "   'ремонт под ключ со всем материал класс комфорт',\n",
       "   'программ лояльност клиент',\n",
       "   'главн',\n",
       "   '| удален адрес доставк в петербург',\n",
       "   'акт списан',\n",
       "   'пластиков окн',\n",
       "   'натяжн потолк',\n",
       "   'ремонт помещен',\n",
       "   'электротехническ',\n",
       "   'сантехмонтажн раб .',\n",
       "   'муж на час',\n",
       "   'ав и жд билет',\n",
       "   'горя тур и путевк'],\n",
       "  'div': ['а такж',\n",
       "   'наш адрес :',\n",
       "   'проспект гагарин , дом 1',\n",
       "   'Loading',\n",
       "   'мен',\n",
       "   'дополнительн',\n",
       "   'стат',\n",
       "   'новост',\n",
       "   '« един центр услуг » 007 в санкт-петербург . работа круглосуточн без выходн .',\n",
       "   'тел . 007',\n",
       "   'авиагородок все дом',\n",
       "   'коммун ул с 59 дом',\n",
       "   'пограничник гарькав ул все дом',\n",
       "   'наш услуг :',\n",
       "   '© 1998-2016 « един центр услуг 007 » в санкт-петербург . все прав защищ'],\n",
       "  'h1': ['удален адрес доставк в петербург'],\n",
       "  'i': ['арх стат', 'арх новост', 'подписа'],\n",
       "  'p': ['автобусн ул все дом',\n",
       "   'автобусн пер все дом',\n",
       "   'александровск ферм пр все дом',\n",
       "   'алексеевск 1 - я ул все дом',\n",
       "   'алексеевск 2 - я ул все дом',\n",
       "   'арктическ ул все дом',\n",
       "   'арсенальн ул с 7 дом',\n",
       "   'афанасьевск ул все дом',\n",
       "   'афонск ул с 20 дом',\n",
       "   'баррикадн ул все дом',\n",
       "   'беломорск ул все дом',\n",
       "   'берегов ул все дом ( 300 руб )',\n",
       "   'березов ул все дом',\n",
       "   'богатырск пр четн с 38 дом',\n",
       "   'бокситогорск ул все дом',\n",
       "   'больш десятин ул все дом',\n",
       "   'большевик пр четн с 52 дом — 300 рубл',\n",
       "   'братск ул все дом',\n",
       "   'бронев ул все дом',\n",
       "   'брянск ул все дом',\n",
       "   'быковск ул все дом',\n",
       "   'вагон проезд все дом',\n",
       "   'ванеев ул все дом',\n",
       "   'васильков ул все дом',\n",
       "   'вертолетн ул все дом',\n",
       "   'верхн 1 - й пер все дом',\n",
       "   'верхн 2 - й пер все дом',\n",
       "   'верхн 3 - й пер все дом',\n",
       "   'верхн 4 - й пер все дом',\n",
       "   'верхн 5 - й пер все дом',\n",
       "   'верхн 6 - й пер все дом',\n",
       "   'верхн 7 - й пер все дом',\n",
       "   'верхн 8 - й пер все дом',\n",
       "   'верхн улиц ( парнас ) все дом',\n",
       "   'ветеран пр нечетн с 139 дом , четн с 158 дом',\n",
       "   'взлетн ул все дом',\n",
       "   'внуковск ул все дом',\n",
       "   'волгодонск пр все дом ( 250 руб )',\n",
       "   'волховск шосс все дом ( 350 руб )',\n",
       "   'всеволожск ул все дом',\n",
       "   'выборгск шосс ( парголов ) четн с 200 по 350 , нечетн с 39 по 499 ( 350 руб )',\n",
       "   'гаражн проезд все дом',\n",
       "   'гарькав ул все дом',\n",
       "   'геро ул все дом',\n",
       "   'главн ул все дом',\n",
       "   'глинян ул все дом',\n",
       "   'глухарск ул все дом',\n",
       "   'глухоозерск шосс все дом',\n",
       "   'горн ул все дом',\n",
       "   'грузов проезд все дом',\n",
       "   'дальневосточн пр с 83 дом',\n",
       "   'дегтярев ул все дом',\n",
       "   'дернов ул все дом',\n",
       "   'десятин больш ул все дом',\n",
       "   'десятин мал ул все дом',\n",
       "   'димитров ул с 35 дом',\n",
       "   'доблест ул с 1 по 16 дом',\n",
       "   'домодедовск ул все дом',\n",
       "   'домостроительн ул все дом',\n",
       "   'дорог на петро-славянк все дом',\n",
       "   'дорог на турухта остров с 13 дом',\n",
       "   'екатерингофк рек наб с 16 дом',\n",
       "   'екатериненск пр все дом ( 300 руб )',\n",
       "   'елисеевск ул все дом',\n",
       "   'жерновск 1 - я ул все дом',\n",
       "   'жерновск 2 - я ул все дом',\n",
       "   'жерновск 3 - я ул все дом',\n",
       "   'жерновск 4 - я ул все дом',\n",
       "   'жерновск 5 - я ул все дом',\n",
       "   'жерновск 6 - я ул все дом',\n",
       "   'жуков пр до 18 дом',\n",
       "   'заводск ул все дом',\n",
       "   'заповедн ул все дом',\n",
       "   'зарубинск ул все дом',\n",
       "   'заусадебн ул все дом',\n",
       "   'земледельческ пер все дом',\n",
       "   'зольн ул все дом',\n",
       "   'ильич тупик все дом',\n",
       "   'индустриальн пр с 44 дом',\n",
       "   'ириновск пр с 1 по 10 дом',\n",
       "   'камышинск ул все дом',\n",
       "   'канонерск остр все дом ( 300 руб )',\n",
       "   'караваевск ул с 46 дом',\n",
       "   'качалов ул с 11 дом',\n",
       "   'кибальчич ул все дом',\n",
       "   'ковалевск ул все дом',\n",
       "   'кожевен лин все дом',\n",
       "   'коломяжск пр дом 13',\n",
       "   'комендантск пр нечетн с 45 дом',\n",
       "   'комсомольск 2 - я ул все дом',\n",
       "   'королев ул с 55 дом',\n",
       "   'красин ул все дом',\n",
       "   'краснопутиловск ул дом 69',\n",
       "   'кубинск ул с 71 дом',\n",
       "   'культур пр нечетн с 33 дом , четн с 28 дом',\n",
       "   'лабораторн пр с 23 дом',\n",
       "   'лагод ул все дом',\n",
       "   'лапинск пр все дом ( 300 руб )',\n",
       "   'латышск стрелк ул с 13 дом ( 300 руб )',\n",
       "   'лахтинск пр все дом ( 300 руб )',\n",
       "   'ленинградск ул ( кудров ) 350 руб',\n",
       "   'ленинск пр до 65 дом',\n",
       "   'лесопарков ул все дом',\n",
       "   'летчик пилютов ул все дом',\n",
       "   'лин 1 - я ( красногвардейск район ) все дом',\n",
       "   'лин 2 - я ( красногвардейск район ) все дом',\n",
       "   'лин 3 - я ( красногвардейск район ) все дом',\n",
       "   'лин 3 - я 1 - я половин все дом',\n",
       "   'лин 3 - я 2 - я половин все дом',\n",
       "   'лин 4 - я ( красногвардейск район ) все дом',\n",
       "   'лин 5 - я ( красногвардейск район ) все дом',\n",
       "   'лыжн переулок все дом',\n",
       "   'мал десятин ул все дом',\n",
       "   'мартынов наб с 92 дом',\n",
       "   'марша блюхер пр дом 4 ( все корпус )',\n",
       "   'марша жуков пр до 18 дом',\n",
       "   'марша захаров ул четн сторон до 20 дом , нечетн сторон до 9 дом',\n",
       "   'марша новиков ул с 28 дом',\n",
       "   'мгинск пер все дом',\n",
       "   'мебельна проезд все дом',\n",
       "   'мебельн ул с 5 дом',\n",
       "   'мега-дыбенк ( 300 руб )',\n",
       "   'мега-парнас ( 300 руб )',\n",
       "   'мельничн ул с 13 дом',\n",
       "   'мельничн пер все дом',\n",
       "   'менделеевск ул с 4 дом',\n",
       "   'мигуновск ул все дом',\n",
       "   'минеральн ул с 4 дом',\n",
       "   'митрофаньевск мал ул все дом',\n",
       "   'митрофаньевск шосс все дом',\n",
       "   'морск наб с 37 дом',\n",
       "   'московск шосс нечетн с 13 дом , четн с 44 дом',\n",
       "   'мукулатурн проезд все дом',\n",
       "   'на петро-славянк дорог все дом',\n",
       "   'на турухта остров дорог с 13 дом',\n",
       "   'набережн ул все дом',\n",
       "   'народн ул нечетн с 91 дом',\n",
       "   'народн ополчен пр с 233 дом',\n",
       "   'невельск ул дом 7 ( 250 руб )',\n",
       "   'непокорен пр дом 63',\n",
       "   'нижне-каменск ул все дом',\n",
       "   'нижн полев ул все дом',\n",
       "   'никитинск 1 - я ул все дом',\n",
       "   'никитинск 2 - я ул все дом',\n",
       "   'новиков ул с 28 дом',\n",
       "   'ново-никитинск ул все дом',\n",
       "   'новоалександровск ул ( шувалов ) все дом',\n",
       "   'новобелецк ул все дом',\n",
       "   'новоколомяжск пр с 6 дом',\n",
       "   'новомалиновск дорог все дом',\n",
       "   'новоорловск ул все дом',\n",
       "   'новороссийск ул с 49 дом',\n",
       "   'новосельковск ул все дом',\n",
       "   'новоутин ул все дом',\n",
       "   'обводн кана с 24 по 34 дом',\n",
       "   'обуховск оборон пр дом 295 ( 300 руб )',\n",
       "   'объездн шосс все дом',\n",
       "   'озерковск 1 - й пер все дом',\n",
       "   'озерковск 2 - й пер все дом',\n",
       "   'озерковск 3 - й пер все дом',\n",
       "   'озерковск пр все дом',\n",
       "   'окраин ул все дом',\n",
       "   'октябрьск наб с 6 по 56 и с 74 по 100 дом',\n",
       "   'октябрьск наб со 102 дом ( 300 руб )',\n",
       "   'оптик ул с 23 дом',\n",
       "   'опытн ул все дом',\n",
       "   'парголовск пер все дом',\n",
       "   'парнас все дом',\n",
       "   'партизанск ул все дом',\n",
       "   'первомайск пр все дом',\n",
       "   'петергофск шосс с 50 по 73 дом',\n",
       "   'петергофск шосс с 74 дом ( 350 руб )',\n",
       "   'петровск кос все дом',\n",
       "   'петровск пр все дом',\n",
       "   'пилотн ул все дом',\n",
       "   'пилот ул все дом',\n",
       "   'пилютов ул все дом',\n",
       "   'пионерстро ул все дом',\n",
       "   'пискаревск пр с 50 дом',\n",
       "   'планерн ул с 65 дом',\n",
       "   'поклонногорск ул с 33 дом',\n",
       "   'полев 1 - я ул все дом',\n",
       "   'полев 2 - я ул все дом',\n",
       "   'полев нижн ул все дом',\n",
       "   'полев сабировск ул все дом',\n",
       "   'полев ул все дом',\n",
       "   'поперечн 1 - я ул все дом ( 350 руб )',\n",
       "   'поперечн 2 - я ул все дом ( 350 руб )',\n",
       "   'поперечн 3 - я ул все дом ( 350 руб )',\n",
       "   'поперечн 4 - я ул все дом ( 350 руб )',\n",
       "   'поперечн 5 - я ул все дом ( 350 руб )',\n",
       "   'поперечн 6 - я ул все дом ( 350 руб )',\n",
       "   'поперечн 7 - я ул все дом ( 350 руб )',\n",
       "   'поперечн 8 - я ул все дом ( 350 руб )',\n",
       "   'поперечн ул все дом',\n",
       "   'поселков ул все дом',\n",
       "   'потапов ул все дом',\n",
       "   'предпортов ул все дом',\n",
       "   'предпортов 1 - й проезд все дом',\n",
       "   'предпортов 2 - й проезд все дом',\n",
       "   'предпортов 3 - й проезд все дом',\n",
       "   'предпортов 4 - й проезд все дом',\n",
       "   'предпортов 5 - й проезд все дом',\n",
       "   'предпортов 6 - й проезд все дом',\n",
       "   'предпортов 7 - й проезд все дом',\n",
       "   'промышлен ул нечетн с 19 дом , четн с 38 дом',\n",
       "   'профессор качалов ул с 11 дом',\n",
       "   'пугачев ул все дом',\n",
       "   'пулковск шосс с 18 дом',\n",
       "   'рабоч ул все дом ( 300 руб )',\n",
       "   'революц шосс нечетн с 69 дом , четн с 88 дом ( 300 руб )',\n",
       "   'ремеслен ул все дом',\n",
       "   'репищев ул четн сторон с 18 дом',\n",
       "   'ржевск ул все дом',\n",
       "   'рощинск ул с 1 по 3 дом',\n",
       "   'рубежн ул все дом',\n",
       "   'рыбацк 1 - й проезд все дом',\n",
       "   'рыбацк 2 - й проезд все дом',\n",
       "   'рыбацк 3 - й проезд все дом',\n",
       "   'рыбацк 4 - й проезд все дом',\n",
       "   'рыбацк 5 - й проезд все дом',\n",
       "   'рыбацк 6 - й проезд все дом',\n",
       "   'рыбацк 7 - й проезд все дом',\n",
       "   'рыбацк 8 - й проезд все дом',\n",
       "   'рябинов ул все дом',\n",
       "   'рябинов ул все дом',\n",
       "   'рябовск шосс все дом',\n",
       "   'сабировск ул все дом',\n",
       "   'салтыковск дорог все дом',\n",
       "   'северн дорог все дом',\n",
       "   'семеновск 2 - я ул все дом',\n",
       "   'сигалев ул все дом',\n",
       "   'складск ул все дом',\n",
       "   'складск проезд все дом',\n",
       "   'славянск ул все дом',\n",
       "   'советск пр все дом',\n",
       "   'соснов ул все дом',\n",
       "   'софийск ул с 54 дом',\n",
       "   'староорловск ул все дом',\n",
       "   'староорловск ул все дом',\n",
       "   'стартов ул все дом',\n",
       "   'ташкентск ул все дом',\n",
       "   'тбилисск ул все дом',\n",
       "   'тепловозн ул все дом',\n",
       "   'туристск ул с 11 по 30 дом',\n",
       "   'тютчевск ул все дом',\n",
       "   'уманск пер все дом',\n",
       "   'утин 1 - я ул все дом',\n",
       "   'утин 2 - я ул все дом',\n",
       "   'федоровск ул все дом',\n",
       "   'химик ул все дом ( 300 руб )',\n",
       "   'химическ пер все дом',\n",
       "   'чекист ул все дом',\n",
       "   'челябинск ул все дом ( 300 руб )',\n",
       "   'чистяковск ул все дом',\n",
       "   'чугун ул с 20 дом',\n",
       "   'шаров ул все дом',\n",
       "   'шафировск пр все дом',\n",
       "   'шкиперск проток дом 14',\n",
       "   'штурманск ул все дом',\n",
       "   'шувалов все дом',\n",
       "   'шуваловск пр четн с 62 дом , нечетн с 39 по 49 дом',\n",
       "   'шуваловск пр дом 32 ( 300 руб )',\n",
       "   'щербаков ул все дом',\n",
       "   'электропультовц ул все дом ( 300 руб )',\n",
       "   'энгельс пр с 155 дом',\n",
       "   'эстонск ул все дом',\n",
       "   'южн дорог все дом ( 300 руб )',\n",
       "   'южн шосс все дом',\n",
       "   'юннат тупик все дом',\n",
       "   'юннат ул все дом',\n",
       "   'ялтинск ул все дом',\n",
       "   'январ 9 - го ул все дом'],\n",
       "  'span': ['+ 7 (8 12 ) 331-92- 91'],\n",
       "  'style': ['img.wp - smile , img.emoj { displa : inlin ! important ; border : non ! important ; box-shadow : non ! important ; height : 1em ! important ; width : 1em ! important ; margin : 0 . 07em ! important ; vertical-align : -0.1 em ! important ; background : non ! important ; padding : 0 ! important ; }']},\n",
       " 'title': 'Список удаленных адресов доставки документов в Санкт-Петербурге, курьерская служба в СПб',\n",
       " 'url': 'http://007spb.ru/adres'}"
      ]
     },
     "execution_count": 9,
     "metadata": {},
     "output_type": "execute_result"
    }
   ],
   "source": [
    "data"
   ]
  },
  {
   "cell_type": "code",
   "execution_count": null,
   "metadata": {
    "collapsed": true
   },
   "outputs": [],
   "source": []
  }
 ],
 "metadata": {
  "kernelspec": {
   "display_name": "Python 3",
   "language": "python",
   "name": "python3"
  },
  "language_info": {
   "codemirror_mode": {
    "name": "ipython",
    "version": 3
   },
   "file_extension": ".py",
   "mimetype": "text/x-python",
   "name": "python",
   "nbconvert_exporter": "python",
   "pygments_lexer": "ipython3",
   "version": "3.5.2"
  }
 },
 "nbformat": 4,
 "nbformat_minor": 0
}
