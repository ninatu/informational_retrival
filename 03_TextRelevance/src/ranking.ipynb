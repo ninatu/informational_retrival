{
 "cells": [
  {
   "cell_type": "code",
   "execution_count": 1,
   "metadata": {
    "collapsed": true
   },
   "outputs": [],
   "source": [
    "import json\n",
    "from sklearn.externals import joblib\n",
    "import os\n",
    "import re\n",
    "import numpy as np\n",
    "from random import randint\n",
    "from pandas import DataFrame"
   ]
  },
  {
   "cell_type": "code",
   "execution_count": 2,
   "metadata": {
    "collapsed": true
   },
   "outputs": [],
   "source": [
    "dataPath = '../data'\n",
    "tfIdfPagesPath = '../data/features/tfidfPage'\n",
    "\n",
    "docsUrlsPath = '../data/urls.docs.txt'\n",
    "textdataPath = '../data/textdata'\n",
    "templateJson = '{:d}.json'\n",
    "samplePath = '../data/sample.csv'\n",
    "\n",
    "queriesDocsPath = '../data/queries.docs.txt'\n",
    "queriesPath = '../data/queries.numerate.txt'"
   ]
  },
  {
   "cell_type": "code",
   "execution_count": 3,
   "metadata": {
    "collapsed": false
   },
   "outputs": [],
   "source": [
    "pat = re.compile(r'\\d+')\n",
    "procNumbs = set(map(lambda x: int(pat.search(x).group(0)), os.listdir(textdataPath)))\n",
    "\n",
    "queriesDict = {}\n",
    "with open(queriesPath) as inputFile:\n",
    "    for line in inputFile:\n",
    "        number, query = line.strip().split('\\t')\n",
    "        queriesDict[number] = query\n",
    "        \n",
    "queriesDocsDict = json.load(open(queriesDocsPath))\n",
    "\n",
    "docsUrlsDict = {}\n",
    "with open(docsUrlsPath) as inputFile:\n",
    "    for line in inputFile:\n",
    "        number, url, path = line.strip().split('\\t')\n",
    "        docsUrlsDict[number] = (url, path)"
   ]
  },
  {
   "cell_type": "markdown",
   "metadata": {},
   "source": [
    "# Ранжирование"
   ]
  },
  {
   "cell_type": "code",
   "execution_count": 4,
   "metadata": {
    "collapsed": true
   },
   "outputs": [],
   "source": [
    "class Rank:\n",
    "    def __init__(self):\n",
    "        self._ranks = {}\n",
    "    def setRanks(self, numbQuery, listPages):\n",
    "        self._ranks[numbQuery] = listPages\n",
    "    def save(self, fileOutput):\n",
    "        rankList = ([[q, d] for q, docs in sorted(self._ranks.items(), key=lambda x: int(x[0])) for d in docs])\n",
    "        dataFrame = DataFrame.from_records(rankList, columns=['QueryId', 'DocumentId'])\n",
    "        dataFrame.to_csv(fileOutput, index=False)        "
   ]
  },
  {
   "cell_type": "markdown",
   "metadata": {},
   "source": [
    "** Ранжирование по tfidf **"
   ]
  },
  {
   "cell_type": "code",
   "execution_count": 6,
   "metadata": {
    "collapsed": false
   },
   "outputs": [],
   "source": [
    "tfIdfFullText = '../data/features/tfidfFullText'\n",
    "titlePath = '../data/features/tfidfTitle'\n",
    "keywordsPath = '../data/features/tfidfKeywords'\n",
    "descPath = '../data/features/tfidfDesc'\n",
    "\n",
    "#tfIdfFullPagesPath = '../data/tfidfFullPages'\n",
    "tfidfPages = json.load(open(tfIdfFullText))\n",
    "titleTfidf = json.load(open(titlePath))\n",
    "keywordsTfidf = json.load(open(keywordsPath))\n",
    "descTfidf = json.load(open(descPath))\n",
    "\n",
    "rank = Rank()\n",
    "for numb, query in queriesDict.items():\n",
    "    numbsDocs = queriesDocsDict[numb]\n",
    "    tfidfs = zip(tfidfPages[numb], titleTfidf[numb], keywordsTfidf[numb], descTfidf[numb])\n",
    "    tfidfs = map(lambda x: sum(x) if x[0] is not None else -1, tfidfs)\n",
    "    #tfidfs = map(lambda x: x if x is not None else -1, tfidfs)\n",
    "    pairs = sorted(zip(numbsDocs, tfidfs), key=lambda x: x[1], reverse=True)\n",
    "    badPairs = list(filter(lambda x: x[1] == -1, pairs))\n",
    "    goodPairs = list(filter(lambda x: x[1] != -1, pairs))\n",
    "    for badPair in badPairs:\n",
    "        goodPairs.insert(randint(0, len(goodPairs)), badPair)\n",
    "    rank.setRanks(numb, list(map(lambda x: x[0], goodPairs)))\n",
    "rank.save(open('../results/3.csv', 'w'))"
   ]
  },
  {
   "cell_type": "markdown",
   "metadata": {},
   "source": [
    "** Ранжирование по tfidf взвешенному по областям **"
   ]
  },
  {
   "cell_type": "code",
   "execution_count": 11,
   "metadata": {
    "collapsed": true
   },
   "outputs": [],
   "source": [
    "tags = [\"p\", \"div\", \"br\", \"span\", \"img\", \"h1\", \"h2\", \"h3\", \"h4\", \"h5\", \"h6\", \"b\", \"strong\", \"i\"]\n",
    "weights = {}\n",
    "for tag in [\"p\", \"div\", \"br\", \"span\", \"img\", \"b\", \"strong\", \"i\"]:\n",
    "    weights[tag] = 1\n",
    "for tag in [\"h1\", \"h2\", \"h3\", \"h4\", \"h5\", \"h6\"]:\n",
    "    weights[tag] = 1\n",
    "weights[\"title\"] = 1\n",
    "weights[\"description\"] = 1\n",
    "weights[\"keywords\"] = 1"
   ]
  },
  {
   "cell_type": "code",
   "execution_count": 67,
   "metadata": {
    "collapsed": true
   },
   "outputs": [],
   "source": [
    "weights = {}\n",
    "weights[\"text\"] = 1\n",
    "weights[\"title\"] = 0.4\n",
    "weights[\"description\"] = 0.4\n",
    "weights[\"keywords\"] =  0.4\n",
    "\n",
    "weights[\"xtext\"] = 2\n",
    "weights[\"xtitle\"] = 0.4\n",
    "weights[\"xdescription\"] = 0.4\n",
    "weights[\"xkeywords\"] =  0.4"
   ]
  },
  {
   "cell_type": "code",
   "execution_count": 59,
   "metadata": {
    "collapsed": false
   },
   "outputs": [],
   "source": [
    "tfidfPath = '../data/features/xxxtdidf'\n",
    "tfidfs = json.load(open(tfidfPath))"
   ]
  },
  {
   "cell_type": "code",
   "execution_count": 60,
   "metadata": {
    "collapsed": false
   },
   "outputs": [],
   "source": [
    "tfIdfFullText = '../data/features/tfidfFullText'\n",
    "titlePath = '../data/features/tfidfTitle'\n",
    "keywordsPath = '../data/features/tfidfKeywords'\n",
    "descPath = '../data/features/tfidfDesc'\n",
    "\n",
    "#tfIdfFullPagesPath = '../data/tfidfFullPages'\n",
    "tfidfPages = json.load(open(tfIdfFullText))\n",
    "titleTfidf = json.load(open(titlePath))\n",
    "keywordsTfidf = json.load(open(keywordsPath))\n",
    "descTfidf = json.load(open(descPath))\n",
    "for numb, query in queriesDict.items():\n",
    "    numbsDocs = queriesDocsDict[numb]\n",
    "    for i, numbDoc in enumerate(numbsDocs):\n",
    "        if tfidfs[numb][str(numbDoc)] is None:\n",
    "            continue\n",
    "        tfidfs[numb][str(numbDoc)][\"xtext\"] = tfidfPages[numb][i]\n",
    "        tfidfs[numb][str(numbDoc)]['xtitle'] = titleTfidf[numb][i]\n",
    "        tfidfs[numb][str(numbDoc)]['xkeywords'] = keywordsTfidf[numb][i]\n",
    "        tfidfs[numb][str(numbDoc)]['xdescription'] = descTfidf[numb][i]"
   ]
  },
  {
   "cell_type": "code",
   "execution_count": 68,
   "metadata": {
    "collapsed": false
   },
   "outputs": [],
   "source": [
    "rank = Rank()\n",
    "for numbQuery, docs in tfidfs.items():\n",
    "    scores = []\n",
    "    for numbDoc, tfidfDict in docs.items():\n",
    "        if tfidfDict is None:\n",
    "            scores.append((numbDoc, -1))\n",
    "            continue\n",
    "        sumScore = 0\n",
    "        for tag, score in tfidfDict.items():\n",
    "            sumScore += score * weights[tag]\n",
    "        scores.append((numbDoc, sumScore))    \n",
    "    pairs = sorted(scores, key=lambda x: x[1], reverse=True)\n",
    "    badPairs = list(filter(lambda x: x[1] == -1, pairs))\n",
    "    goodPairs = list(filter(lambda x: x[1] != -1, pairs))\n",
    "    for badPair in badPairs:\n",
    "        #goodPairs.insert(randint(0, len(goodPairs)), badPair)\n",
    "        goodPairs.append(badPair)\n",
    "    rank.setRanks(numbQuery, list(map(lambda x: x[0], goodPairs)))\n"
   ]
  },
  {
   "cell_type": "code",
   "execution_count": 69,
   "metadata": {
    "collapsed": true
   },
   "outputs": [],
   "source": [
    "rank.save(open('../results/22.scv', 'w'))"
   ]
  }
 ],
 "metadata": {
  "kernelspec": {
   "display_name": "Python 3",
   "language": "python",
   "name": "python3"
  },
  "language_info": {
   "codemirror_mode": {
    "name": "ipython",
    "version": 3
   },
   "file_extension": ".py",
   "mimetype": "text/x-python",
   "name": "python",
   "nbconvert_exporter": "python",
   "pygments_lexer": "ipython3",
   "version": "3.5.2"
  }
 },
 "nbformat": 4,
 "nbformat_minor": 0
}
