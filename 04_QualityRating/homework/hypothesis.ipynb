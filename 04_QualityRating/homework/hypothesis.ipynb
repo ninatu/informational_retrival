{
 "cells": [
  {
   "cell_type": "code",
   "execution_count": 87,
   "metadata": {
    "collapsed": false
   },
   "outputs": [],
   "source": [
    "import pandas\n",
    "import numpy as np\n",
    "from scipy.stats import t as t_dist"
   ]
  },
  {
   "cell_type": "code",
   "execution_count": 88,
   "metadata": {
    "collapsed": false
   },
   "outputs": [],
   "source": [
    "split1 = np.loadtxt(\"./c1.txt\")\n",
    "split2 = np.loadtxt(\"./c2.txt\")"
   ]
  },
  {
   "cell_type": "markdown",
   "metadata": {},
   "source": [
    "Функция, которая принимает вектор сессий и возвращает вектор из 0 и 1 - были клики или нет"
   ]
  },
  {
   "cell_type": "code",
   "execution_count": 89,
   "metadata": {
    "collapsed": false
   },
   "outputs": [],
   "source": [
    "def have_clicks(split) :\n",
    "    return (np.sum(split, axis=1) > 0).astype(int)"
   ]
  },
  {
   "cell_type": "markdown",
   "metadata": {},
   "source": [
    "Функции, вычисляющая метрику CRT и Clicks @ 1. Делят split на группы по count сессий. И вычисляют  метрику в каждой группе. Размерность split кратна count."
   ]
  },
  {
   "cell_type": "code",
   "execution_count": 129,
   "metadata": {
    "collapsed": true
   },
   "outputs": [],
   "source": [
    "def CTR(split, count) :\n",
    "    sp_clicks = have_clicks(split)\n",
    "    n = sp_clicks.shape[0]\n",
    "    sp_clicks = sp_clicks.reshape(((n / count), count))\n",
    "    return np.mean(sp_clicks, axis=1)\n",
    "def clicks_on_1(split, count) :\n",
    "    first_clicks = split[:, 0]\n",
    "    n = first_clicks.shape[0]\n",
    "    first_clicks = first_clicks.reshape(((n / count), count))\n",
    "    return np.mean(first_clicks, axis=1)"
   ]
  },
  {
   "cell_type": "code",
   "execution_count": 139,
   "metadata": {
    "collapsed": false
   },
   "outputs": [
    {
     "name": "stdout",
     "output_type": "stream",
     "text": [
      "[ 0.695  0.677  0.693  0.708  0.676  0.681  0.71   0.692  0.72   0.716]\n",
      "[ 0.686  0.663  0.667  0.667  0.667  0.681  0.661  0.671  0.667  0.622]\n"
     ]
    }
   ],
   "source": [
    "print CTR(split1, 1000)[:10]\n",
    "print CTR(split2, 1000)[:10]"
   ]
  },
  {
   "cell_type": "code",
   "execution_count": 141,
   "metadata": {
    "collapsed": false
   },
   "outputs": [
    {
     "name": "stdout",
     "output_type": "stream",
     "text": [
      "[ 0.479  0.472  0.501  0.503  0.461  0.481  0.511  0.502  0.511  0.507]\n",
      "[ 0.328  0.326  0.327  0.321  0.314  0.346  0.311  0.337  0.359  0.312]\n"
     ]
    }
   ],
   "source": [
    "print clicks_on_1(split1, 1000)[:10]\n",
    "print clicks_on_1(split2,1000)[:10]"
   ]
  },
  {
   "cell_type": "markdown",
   "metadata": {},
   "source": [
    "Критерий Стьюдента. Функция, которая возвращает 1, если гипотеза отвергается."
   ]
  },
  {
   "cell_type": "code",
   "execution_count": 145,
   "metadata": {
    "collapsed": true
   },
   "outputs": [],
   "source": [
    "def students_t_test(X, Y, alpha=0.05) :\n",
    "    \"\"\"Возвращает 1, если гипотеза отвергается\"\"\"\n",
    "    m = X.shape[0]\n",
    "    n = Y.shape[0]\n",
    "    X_mean = np.mean(X)\n",
    "    Y_mean = np.mean(Y)\n",
    "    sx_2 = np.var(X) * m / (m - 1)#np.var(X, ddof = 1)\n",
    "    sy_2 = np.var(Y) * n / (n -1 )#np.var(Y, ddof = 1)\n",
    "    s_2 = ((m - 1.0) * sx_2 + (n - 1.0) * sy_2) / (m + n - 2.0)\n",
    "    t_value = ((X_mean - Y_mean) / (s_2 ** 0.5)) * ((m * n / (m + n)) ** 0.5)\n",
    "    t = t_dist.ppf(q=1 - 0.05 / 2, df = m + n - 2)    \n",
    "    return int(abs(t_value) > t) "
   ]
  },
  {
   "cell_type": "code",
   "execution_count": 146,
   "metadata": {
    "collapsed": false
   },
   "outputs": [
    {
     "name": "stdout",
     "output_type": "stream",
     "text": [
      "1\n"
     ]
    }
   ],
   "source": [
    "print students_t_test(CTR(split1, 1000), CTR(split2, 1000))"
   ]
  },
  {
   "cell_type": "markdown",
   "metadata": {},
   "source": [
    "Бутстрепинг. Метрика подается параметром metric. Возвращает ASL."
   ]
  },
  {
   "cell_type": "code",
   "execution_count": 151,
   "metadata": {
    "collapsed": false
   },
   "outputs": [
    {
     "name": "stdout",
     "output_type": "stream",
     "text": [
      "\n"
     ]
    }
   ],
   "source": [
    "def bootstrap(split1, split2, metric, count_iteration=7500, size_sample=50000, size_group=1000):\n",
    "    i = 0\n",
    "    sum_test_value = 0\n",
    "    all_index1 = range(split1.shape[0])\n",
    "    all_index2 = range(split2.shape[0])\n",
    "    while i < count_iteration:\n",
    "        index1 = np.random.choice(all_index1, size_sample, replace=True)\n",
    "        index2 = np.random.choice(all_index2, size_sample, replace=True)\n",
    "        sample1 = split1[index1]\n",
    "        sample2 = split2[index2]\n",
    "        \n",
    "        x1 = metric(sample1, size_group)\n",
    "        x2 = metric(sample2, size_group)\n",
    "        sum_test_value += students_t_test(x1, x2)\n",
    "        i += 1\n",
    "    return float(sum_test_value) / count_iteration        "
   ]
  },
  {
   "cell_type": "markdown",
   "metadata": {},
   "source": [
    "Проверка гипотезы H0 о том, что CTR на двух сплитах можно объяснить шумами."
   ]
  },
  {
   "cell_type": "code",
   "execution_count": 152,
   "metadata": {
    "collapsed": false
   },
   "outputs": [
    {
     "data": {
      "text/plain": [
       "1.0"
      ]
     },
     "execution_count": 152,
     "metadata": {},
     "output_type": "execute_result"
    }
   ],
   "source": [
    "bootstrap(split1, split2, CTR, count_iteration=1000, size_sample=50000, size_group=1000)"
   ]
  },
  {
   "cell_type": "markdown",
   "metadata": {},
   "source": [
    "Проверка гипотезы H0 для метрики Clicks@1(доля кликов в первый результат)."
   ]
  },
  {
   "cell_type": "code",
   "execution_count": 153,
   "metadata": {
    "collapsed": false
   },
   "outputs": [
    {
     "data": {
      "text/plain": [
       "1.0"
      ]
     },
     "execution_count": 153,
     "metadata": {},
     "output_type": "execute_result"
    }
   ],
   "source": [
    "bootstrap(split1, split2, clicks_on_1, count_iteration=1000, size_sample=50000, size_group=1000)"
   ]
  },
  {
   "cell_type": "markdown",
   "metadata": {},
   "source": [
    "Обе гипотезы отвергнуты с уровнем значимости 1."
   ]
  }
 ],
 "metadata": {
  "anaconda-cloud": {},
  "kernelspec": {
   "display_name": "Python [conda env:python2.7]",
   "language": "python",
   "name": "conda-env-python2.7-py"
  },
  "language_info": {
   "codemirror_mode": {
    "name": "ipython",
    "version": 2
   },
   "file_extension": ".py",
   "mimetype": "text/x-python",
   "name": "python",
   "nbconvert_exporter": "python",
   "pygments_lexer": "ipython2",
   "version": "2.7.12"
  }
 },
 "nbformat": 4,
 "nbformat_minor": 1
}
